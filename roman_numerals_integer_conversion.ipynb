{
 "cells": [
  {
   "cell_type": "code",
   "execution_count": 1,
   "metadata": {},
   "outputs": [],
   "source": [
    "def integer_to_roman_numerals(input):\n",
    "    \"\"\" Convert an integer to a Roman numeral. \"\"\"\n",
    "    \n",
    "    if not isinstance(input, type(1)):\n",
    "        raise TypeError(\"expected integer, got %s\" % type(input))\n",
    "    if not 0 < input < 4000:\n",
    "        raise ValueError(\"Argument must be between 1 and 3999\")\n",
    "        \n",
    "    integers = (1000, 900, 500, 400, 100, 90, 50, 40, 10, 9, 5, 4, 1)\n",
    "    roman_numerals = ('M', 'CM', 'D', 'CD', 'C', 'XC', 'L', 'XL', 'X', 'IX', 'V', 'IV', 'I')\n",
    "    result = []\n",
    "    \n",
    "    for i in range(len(integers)):\n",
    "        count = int(input / integers[i])\n",
    "        result.append(roman_numerals[i] * count)\n",
    "        input -= integers[i] * count\n",
    "    return ''.join(result)"
   ]
  },
  {
   "cell_type": "code",
   "execution_count": 2,
   "metadata": {},
   "outputs": [],
   "source": [
    "def roman_numerals_to_integer(input):\n",
    "    \"\"\" Convert a Roman numeral to an integer. \"\"\"\n",
    "    \n",
    "    if not isinstance(input, type(\"\")):\n",
    "        raise TypeError(\"expected string, got, %s\" % type(input))\n",
    "        \n",
    "    input = input.upper( )\n",
    "    roman_numerals = {'M': 1000, 'D': 500, 'C': 100, 'L': 50, 'X': 10, 'V': 5, 'I': 1}\n",
    "    sum = 0\n",
    "    \n",
    "    for i in range(len(input)):\n",
    "        try:\n",
    "            value = roman_numerals[input[i]]\n",
    "            \n",
    "            if i + 1 < len(input) and roman_numerals[input[i + 1]] > value:\n",
    "                sum -= value\n",
    "            else:\n",
    "                sum += value\n",
    "        except KeyError:\n",
    "            raise ValueError(\"input is not a valid Roman numeral: %s\" % input)\n",
    "    \n",
    "    if integer_to_roman_numerals(sum) == input:\n",
    "        return sum\n",
    "    else:\n",
    "        raise ValueError(\"input is not a valid Roman numeral: %s\" % input)"
   ]
  },
  {
   "cell_type": "code",
   "execution_count": 3,
   "metadata": {},
   "outputs": [
    {
     "data": {
      "text/plain": [
       "'IX'"
      ]
     },
     "execution_count": 3,
     "metadata": {},
     "output_type": "execute_result"
    }
   ],
   "source": [
    "integer_to_roman_numerals(9)"
   ]
  },
  {
   "cell_type": "code",
   "execution_count": 4,
   "metadata": {},
   "outputs": [
    {
     "data": {
      "text/plain": [
       "130"
      ]
     },
     "execution_count": 4,
     "metadata": {},
     "output_type": "execute_result"
    }
   ],
   "source": [
    "roman_numerals_to_integer('cxxx')"
   ]
  },
  {
   "cell_type": "code",
   "execution_count": null,
   "metadata": {},
   "outputs": [],
   "source": []
  }
 ],
 "metadata": {
  "kernelspec": {
   "display_name": "Python 3",
   "language": "python",
   "name": "python3"
  },
  "language_info": {
   "codemirror_mode": {
    "name": "ipython",
    "version": 3
   },
   "file_extension": ".py",
   "mimetype": "text/x-python",
   "name": "python",
   "nbconvert_exporter": "python",
   "pygments_lexer": "ipython3",
   "version": "3.7.4"
  }
 },
 "nbformat": 4,
 "nbformat_minor": 2
}
