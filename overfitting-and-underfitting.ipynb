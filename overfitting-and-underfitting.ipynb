{
 "cells": [
  {
   "cell_type": "code",
   "execution_count": 1,
   "metadata": {},
   "outputs": [
    {
     "name": "stderr",
     "output_type": "stream",
     "text": [
      "Using TensorFlow backend.\n"
     ]
    },
    {
     "data": {
      "text/plain": [
       "'2.2.4'"
      ]
     },
     "execution_count": 1,
     "metadata": {},
     "output_type": "execute_result"
    }
   ],
   "source": [
    "import keras\n",
    "keras.__version__"
   ]
  },
  {
   "cell_type": "markdown",
   "metadata": {},
   "source": [
    "# Overfitting and underfitting\n",
    "\n",
    "The fundamental issue in machine learning is the tension between optimization and generalization. \"Optimization\" refers to the process of \n",
    "adjusting a model to get the best performance possible on the training data (the \"learning\" in \"machine learning\"), while \"generalization\" \n",
    "refers to how well the trained model would perform on data it has never seen before. The goal of the game is to get good generalization, of \n",
    "course, but you do not control generalization; you can only adjust the model based on its training data.\n",
    "\n",
    "To prevent a model from learning misleading or irrelevant patterns found in the training data, \n",
    "\n",
    "### _the best solution is of course to get \n",
    "more training data_. A model trained on more data will naturally generalize better. When that is no longer possible, \n",
    "### the next best solution \n",
    "is to modulate the quantity of information that your model is allowed to store, or to add constraints on what information it is allowed to \n",
    "store. If a network can only afford to memorize a small number of patterns, the optimization process will force it to focus on the most \n",
    "prominent patterns, which have a better chance of generalizing well.\n",
    "\n",
    "The processing of fighting overfitting in this way is called _regularization_. Let's review some of the most common regularization \n",
    "techniques, and let's apply them in practice to improve our movie classification model."
   ]
  },
  {
   "cell_type": "markdown",
   "metadata": {},
   "source": [
    "Note: in this notebook we will be using the IMDB test set as our validation set. It doesn't matter in this context."
   ]
  },
  {
   "cell_type": "code",
   "execution_count": 2,
   "metadata": {},
   "outputs": [],
   "source": [
    "from keras.datasets import imdb\n",
    "import numpy as np\n",
    "\n",
    "#(train_data, train_labels), (test_data, test_labels) = imdb.load_data(num_words=10000)\n",
    "\n",
    "# save np.load\n",
    "np_load_old = np.load\n",
    "\n",
    "# modify the default parameters of np.load\n",
    "np.load = lambda *a,**k: np_load_old(*a, allow_pickle=True, **k)\n",
    "\n",
    "# call load_data with allow_pickle implicitly set to true\n",
    "(train_data, train_labels), (test_data, test_labels) = imdb.load_data(num_words=10000)\n",
    "\n",
    "# restore np.load for future normal usage\n",
    "np.load = np_load_old\n",
    "\n",
    "def vectorize_sequences(sequences, dimension=10000):\n",
    "    # Create an all-zero matrix of shape (len(sequences), dimension)\n",
    "    results = np.zeros((len(sequences), dimension))\n",
    "    for i, sequence in enumerate(sequences):\n",
    "        results[i, sequence] = 1.  # set specific indices of results[i] to 1s\n",
    "    return results\n",
    "\n",
    "# Our vectorized training data\n",
    "x_train = vectorize_sequences(train_data)\n",
    "# Our vectorized test data\n",
    "x_test = vectorize_sequences(test_data)\n",
    "# Our vectorized labels\n",
    "y_train = np.asarray(train_labels).astype('float32')\n",
    "y_test = np.asarray(test_labels).astype('float32')"
   ]
  },
  {
   "cell_type": "markdown",
   "metadata": {},
   "source": [
    "# Fighting overfitting\n",
    "\n",
    "## Reducing the network's size\n",
    "\n",
    "\n",
    "The simplest way to prevent overfitting is to reduce the size of the model, i.e. the number of learnable parameters in the model. In deep learning, the number of learnable parameters in a model is \n",
    "often referred to as the model's \"capacity\". Intuitively, a model with more parameters will have more \"memorization capacity\" and therefore \n",
    "will be able to easily learn a perfect dictionary-like mapping between training samples and their targets, a mapping without any \n",
    "generalization power. \n",
    "\n",
    "On the other hand, if the network has limited memorization resources, it will not be able to learn this mapping as easily, and thus, in \n",
    "order to minimize its loss, it will have to resort to learning compressed representations that have predictive power regarding the targets \n",
    "-- precisely the type of representations that we are interested in. At the same time, keep in mind that you should be using models that have \n",
    "enough parameters that they won't be underfitting: your model shouldn't be starved for memorization resources. There is a compromise to be \n",
    "found between \"too much capacity\" and \"not enough capacity\".\n",
    "\n",
    "Unfortunately, there is no magical formula to determine what the right number of layers is, or what the right size for each layer is. You \n",
    "will have to evaluate an array of different architectures (on your validation set, not on your test set, of course) in order to find the \n",
    "right model size for your data. The general workflow to find an appropriate model size is to start with relatively few layers and \n",
    "parameters, and start increasing the size of the layers or adding new layers until you see diminishing returns with regard to the \n",
    "validation loss.\n",
    "\n",
    "Let's try this on our movie review classification network. Our original network was as such:"
   ]
  },
  {
   "cell_type": "code",
   "execution_count": 3,
   "metadata": {},
   "outputs": [
    {
     "name": "stdout",
     "output_type": "stream",
     "text": [
      "WARNING:tensorflow:From /home/adelard/anaconda3/lib/python3.7/site-packages/keras/backend/tensorflow_backend.py:74: The name tf.get_default_graph is deprecated. Please use tf.compat.v1.get_default_graph instead.\n",
      "\n",
      "WARNING:tensorflow:From /home/adelard/anaconda3/lib/python3.7/site-packages/keras/backend/tensorflow_backend.py:517: The name tf.placeholder is deprecated. Please use tf.compat.v1.placeholder instead.\n",
      "\n",
      "WARNING:tensorflow:From /home/adelard/anaconda3/lib/python3.7/site-packages/keras/backend/tensorflow_backend.py:4138: The name tf.random_uniform is deprecated. Please use tf.random.uniform instead.\n",
      "\n",
      "WARNING:tensorflow:From /home/adelard/anaconda3/lib/python3.7/site-packages/keras/optimizers.py:790: The name tf.train.Optimizer is deprecated. Please use tf.compat.v1.train.Optimizer instead.\n",
      "\n",
      "WARNING:tensorflow:From /home/adelard/anaconda3/lib/python3.7/site-packages/keras/backend/tensorflow_backend.py:3376: The name tf.log is deprecated. Please use tf.math.log instead.\n",
      "\n",
      "WARNING:tensorflow:From /home/adelard/anaconda3/lib/python3.7/site-packages/tensorflow_core/python/ops/nn_impl.py:183: where (from tensorflow.python.ops.array_ops) is deprecated and will be removed in a future version.\n",
      "Instructions for updating:\n",
      "Use tf.where in 2.0, which has the same broadcast rule as np.where\n"
     ]
    }
   ],
   "source": [
    "from keras import models\n",
    "from keras import layers\n",
    "\n",
    "original_model = models.Sequential()\n",
    "original_model.add(layers.Dense(16, activation='relu', input_shape=(10000,)))\n",
    "original_model.add(layers.Dense(16, activation='relu'))\n",
    "original_model.add(layers.Dense(1, activation='sigmoid'))\n",
    "\n",
    "original_model.compile(optimizer='rmsprop',\n",
    "                       loss='binary_crossentropy',\n",
    "                       metrics=['acc'])"
   ]
  },
  {
   "cell_type": "markdown",
   "metadata": {},
   "source": [
    "Now let's try to replace it with this smaller network:"
   ]
  },
  {
   "cell_type": "code",
   "execution_count": 4,
   "metadata": {},
   "outputs": [],
   "source": [
    "smaller_model = models.Sequential()\n",
    "smaller_model.add(layers.Dense(4, activation='relu', input_shape=(10000,)))\n",
    "smaller_model.add(layers.Dense(4, activation='relu'))\n",
    "smaller_model.add(layers.Dense(1, activation='sigmoid'))\n",
    "\n",
    "smaller_model.compile(optimizer='rmsprop',\n",
    "                      loss='binary_crossentropy',\n",
    "                      metrics=['acc'])"
   ]
  },
  {
   "cell_type": "markdown",
   "metadata": {},
   "source": [
    "\n",
    "Here's a comparison of the validation losses of the original network and the smaller network. The dots are the validation loss values of \n",
    "the smaller network, and the crosses are the initial network (remember: a lower validation loss signals a better model)."
   ]
  },
  {
   "cell_type": "code",
   "execution_count": 5,
   "metadata": {},
   "outputs": [
    {
     "name": "stdout",
     "output_type": "stream",
     "text": [
      "WARNING:tensorflow:From /home/adelard/anaconda3/lib/python3.7/site-packages/keras/backend/tensorflow_backend.py:986: The name tf.assign_add is deprecated. Please use tf.compat.v1.assign_add instead.\n",
      "\n",
      "WARNING:tensorflow:From /home/adelard/anaconda3/lib/python3.7/site-packages/keras/backend/tensorflow_backend.py:973: The name tf.assign is deprecated. Please use tf.compat.v1.assign instead.\n",
      "\n",
      "WARNING:tensorflow:From /home/adelard/anaconda3/lib/python3.7/site-packages/keras/backend/tensorflow_backend.py:2741: The name tf.Session is deprecated. Please use tf.compat.v1.Session instead.\n",
      "\n",
      "Train on 25000 samples, validate on 25000 samples\n",
      "Epoch 1/20\n",
      "WARNING:tensorflow:From /home/adelard/anaconda3/lib/python3.7/site-packages/keras/backend/tensorflow_backend.py:174: The name tf.get_default_session is deprecated. Please use tf.compat.v1.get_default_session instead.\n",
      "\n",
      "WARNING:tensorflow:From /home/adelard/anaconda3/lib/python3.7/site-packages/keras/backend/tensorflow_backend.py:181: The name tf.ConfigProto is deprecated. Please use tf.compat.v1.ConfigProto instead.\n",
      "\n",
      "WARNING:tensorflow:From /home/adelard/anaconda3/lib/python3.7/site-packages/keras/backend/tensorflow_backend.py:190: The name tf.global_variables is deprecated. Please use tf.compat.v1.global_variables instead.\n",
      "\n",
      "WARNING:tensorflow:From /home/adelard/anaconda3/lib/python3.7/site-packages/keras/backend/tensorflow_backend.py:199: The name tf.is_variable_initialized is deprecated. Please use tf.compat.v1.is_variable_initialized instead.\n",
      "\n",
      "WARNING:tensorflow:From /home/adelard/anaconda3/lib/python3.7/site-packages/keras/backend/tensorflow_backend.py:206: The name tf.variables_initializer is deprecated. Please use tf.compat.v1.variables_initializer instead.\n",
      "\n",
      "25000/25000 [==============================] - 3s 129us/step - loss: 0.4438 - acc: 0.8241 - val_loss: 0.3290 - val_acc: 0.8842\n",
      "Epoch 2/20\n",
      "25000/25000 [==============================] - 2s 67us/step - loss: 0.2576 - acc: 0.9082 - val_loss: 0.2863 - val_acc: 0.8885\n",
      "Epoch 3/20\n",
      "25000/25000 [==============================] - 2s 72us/step - loss: 0.1985 - acc: 0.9302 - val_loss: 0.2822 - val_acc: 0.8888\n",
      "Epoch 4/20\n",
      "25000/25000 [==============================] - 2s 70us/step - loss: 0.1662 - acc: 0.9414 - val_loss: 0.2940 - val_acc: 0.8848\n",
      "Epoch 5/20\n",
      "25000/25000 [==============================] - 2s 67us/step - loss: 0.1435 - acc: 0.9500 - val_loss: 0.3119 - val_acc: 0.8806\n",
      "Epoch 6/20\n",
      "25000/25000 [==============================] - 2s 66us/step - loss: 0.1260 - acc: 0.9556 - val_loss: 0.3506 - val_acc: 0.8716\n",
      "Epoch 7/20\n",
      "25000/25000 [==============================] - 2s 68us/step - loss: 0.1130 - acc: 0.9604 - val_loss: 0.3578 - val_acc: 0.8732\n",
      "Epoch 8/20\n",
      "25000/25000 [==============================] - 2s 65us/step - loss: 0.0983 - acc: 0.9675 - val_loss: 0.3919 - val_acc: 0.8673\n",
      "Epoch 9/20\n",
      "25000/25000 [==============================] - 2s 67us/step - loss: 0.0848 - acc: 0.9721 - val_loss: 0.4285 - val_acc: 0.8621\n",
      "Epoch 10/20\n",
      "25000/25000 [==============================] - 2s 66us/step - loss: 0.0766 - acc: 0.9754 - val_loss: 0.5014 - val_acc: 0.8530\n",
      "Epoch 11/20\n",
      "25000/25000 [==============================] - 2s 69us/step - loss: 0.0690 - acc: 0.9780 - val_loss: 0.4857 - val_acc: 0.8593\n",
      "Epoch 12/20\n",
      "25000/25000 [==============================] - 2s 67us/step - loss: 0.0578 - acc: 0.9826 - val_loss: 0.5130 - val_acc: 0.8576\n",
      "Epoch 13/20\n",
      "25000/25000 [==============================] - 2s 67us/step - loss: 0.0517 - acc: 0.9840 - val_loss: 0.5318 - val_acc: 0.8580\n",
      "Epoch 14/20\n",
      "25000/25000 [==============================] - 2s 69us/step - loss: 0.0428 - acc: 0.9878 - val_loss: 0.6230 - val_acc: 0.8477\n",
      "Epoch 15/20\n",
      "25000/25000 [==============================] - 2s 67us/step - loss: 0.0375 - acc: 0.9895 - val_loss: 0.6085 - val_acc: 0.8550\n",
      "Epoch 16/20\n",
      "25000/25000 [==============================] - 2s 65us/step - loss: 0.0312 - acc: 0.9910 - val_loss: 0.6403 - val_acc: 0.8535\n",
      "Epoch 17/20\n",
      "25000/25000 [==============================] - 2s 66us/step - loss: 0.0269 - acc: 0.9923 - val_loss: 0.6925 - val_acc: 0.8503\n",
      "Epoch 18/20\n",
      "25000/25000 [==============================] - 2s 65us/step - loss: 0.0213 - acc: 0.9946 - val_loss: 0.7229 - val_acc: 0.8497\n",
      "Epoch 19/20\n",
      "25000/25000 [==============================] - 2s 67us/step - loss: 0.0185 - acc: 0.9959 - val_loss: 0.7514 - val_acc: 0.8506\n",
      "Epoch 20/20\n",
      "25000/25000 [==============================] - 2s 66us/step - loss: 0.0163 - acc: 0.9962 - val_loss: 0.9836 - val_acc: 0.8296\n"
     ]
    }
   ],
   "source": [
    "original_hist = original_model.fit(x_train, y_train,\n",
    "                                   epochs=20,\n",
    "                                   batch_size=512,\n",
    "                                   validation_data=(x_test, y_test))"
   ]
  },
  {
   "cell_type": "code",
   "execution_count": 6,
   "metadata": {},
   "outputs": [
    {
     "name": "stdout",
     "output_type": "stream",
     "text": [
      "Train on 25000 samples, validate on 25000 samples\n",
      "Epoch 1/20\n",
      "25000/25000 [==============================] - 3s 102us/step - loss: 0.5814 - acc: 0.7019 - val_loss: 0.5306 - val_acc: 0.7582\n",
      "Epoch 2/20\n",
      "25000/25000 [==============================] - 2s 62us/step - loss: 0.4845 - acc: 0.8448 - val_loss: 0.4869 - val_acc: 0.8310\n",
      "Epoch 3/20\n",
      "25000/25000 [==============================] - 2s 63us/step - loss: 0.4389 - acc: 0.8927 - val_loss: 0.4669 - val_acc: 0.8482\n",
      "Epoch 4/20\n",
      "25000/25000 [==============================] - 2s 61us/step - loss: 0.4078 - acc: 0.9160 - val_loss: 0.4535 - val_acc: 0.8648\n",
      "Epoch 5/20\n",
      "25000/25000 [==============================] - 2s 62us/step - loss: 0.3831 - acc: 0.9313 - val_loss: 0.4537 - val_acc: 0.8588\n",
      "Epoch 6/20\n",
      "25000/25000 [==============================] - 2s 61us/step - loss: 0.3620 - acc: 0.9416 - val_loss: 0.4411 - val_acc: 0.8738\n",
      "Epoch 7/20\n",
      "25000/25000 [==============================] - 2s 63us/step - loss: 0.3427 - acc: 0.9506 - val_loss: 0.4492 - val_acc: 0.8668\n",
      "Epoch 8/20\n",
      "25000/25000 [==============================] - 2s 62us/step - loss: 0.3263 - acc: 0.9565 - val_loss: 0.4515 - val_acc: 0.8679\n",
      "Epoch 9/20\n",
      "25000/25000 [==============================] - 2s 63us/step - loss: 0.3101 - acc: 0.9614 - val_loss: 0.4695 - val_acc: 0.8621\n",
      "Epoch 10/20\n",
      "25000/25000 [==============================] - 2s 62us/step - loss: 0.2958 - acc: 0.9651 - val_loss: 0.4608 - val_acc: 0.8656\n",
      "Epoch 11/20\n",
      "25000/25000 [==============================] - 2s 63us/step - loss: 0.2819 - acc: 0.9692 - val_loss: 0.4845 - val_acc: 0.8614\n",
      "Epoch 12/20\n",
      "25000/25000 [==============================] - 2s 62us/step - loss: 0.2687 - acc: 0.9716 - val_loss: 0.4891 - val_acc: 0.8612\n",
      "Epoch 13/20\n",
      "25000/25000 [==============================] - 2s 63us/step - loss: 0.2567 - acc: 0.9742 - val_loss: 0.5177 - val_acc: 0.8571\n",
      "Epoch 14/20\n",
      "25000/25000 [==============================] - 2s 61us/step - loss: 0.2456 - acc: 0.9765 - val_loss: 0.5487 - val_acc: 0.8543\n",
      "Epoch 15/20\n",
      "25000/25000 [==============================] - 2s 62us/step - loss: 0.2343 - acc: 0.9776 - val_loss: 0.5052 - val_acc: 0.8612\n",
      "Epoch 16/20\n",
      "25000/25000 [==============================] - 2s 61us/step - loss: 0.2236 - acc: 0.9804 - val_loss: 0.5520 - val_acc: 0.8573\n",
      "Epoch 17/20\n",
      "25000/25000 [==============================] - 2s 63us/step - loss: 0.2148 - acc: 0.9808 - val_loss: 0.5800 - val_acc: 0.8560\n",
      "Epoch 18/20\n",
      "25000/25000 [==============================] - 2s 62us/step - loss: 0.2055 - acc: 0.9820 - val_loss: 0.5767 - val_acc: 0.8560\n",
      "Epoch 19/20\n",
      "25000/25000 [==============================] - 2s 64us/step - loss: 0.1966 - acc: 0.9833 - val_loss: 0.5458 - val_acc: 0.8541\n",
      "Epoch 20/20\n",
      "25000/25000 [==============================] - 2s 62us/step - loss: 0.1889 - acc: 0.9840 - val_loss: 0.6641 - val_acc: 0.8502\n"
     ]
    }
   ],
   "source": [
    "smaller_model_hist = smaller_model.fit(x_train, y_train,\n",
    "                                       epochs=20,\n",
    "                                       batch_size=512,\n",
    "                                       validation_data=(x_test, y_test))"
   ]
  },
  {
   "cell_type": "code",
   "execution_count": 7,
   "metadata": {},
   "outputs": [],
   "source": [
    "epochs = range(1, 21)\n",
    "original_val_loss = original_hist.history['val_loss']\n",
    "smaller_model_val_loss = smaller_model_hist.history['val_loss']"
   ]
  },
  {
   "cell_type": "code",
   "execution_count": 8,
   "metadata": {},
   "outputs": [
    {
     "data": {
      "image/png": "[encoded data removed]",
      "text/plain": [
       "<Figure size 432x288 with 1 Axes>"
      ]
     },
     "metadata": {
      "needs_background": "light"
     },
     "output_type": "display_data"
    }
   ],
   "source": [
    "import matplotlib.pyplot as plt\n",
    "\n",
    "# b+ is for \"blue cross\"\n",
    "plt.plot(epochs, original_val_loss, 'b+', label='Original model')\n",
    "# \"bo\" is for \"blue dot\"\n",
    "plt.plot(epochs, smaller_model_val_loss, 'bo', label='Smaller model')\n",
    "plt.xlabel('Epochs')\n",
    "plt.ylabel('Validation loss')\n",
    "plt.legend()\n",
    "\n",
    "plt.show()"
   ]
  },
  {
   "cell_type": "markdown",
   "metadata": {},
   "source": [
    "\n",
    "As you can see, the smaller network starts overfitting later than the reference one (after 6 epochs rather than 3) and its performance \n",
    "degrades much more slowly once it starts overfitting.\n",
    "\n",
    "Now, for kicks, let's add to this benchmark a network that has much more capacity, far more than the problem would warrant:"
   ]
  },
  {
   "cell_type": "code",
   "execution_count": 9,
   "metadata": {},
   "outputs": [],
   "source": [
    "bigger_model = models.Sequential()\n",
    "bigger_model.add(layers.Dense(512, activation='relu', input_shape=(10000,)))\n",
    "bigger_model.add(layers.Dense(512, activation='relu'))\n",
    "bigger_model.add(layers.Dense(1, activation='sigmoid'))\n",
    "\n",
    "bigger_model.compile(optimizer='rmsprop',\n",
    "                     loss='binary_crossentropy',\n",
    "                     metrics=['acc'])"
   ]
  },
  {
   "cell_type": "code",
   "execution_count": 10,
   "metadata": {},
   "outputs": [
    {
     "name": "stdout",
     "output_type": "stream",
     "text": [
      "Train on 25000 samples, validate on 25000 samples\n",
      "Epoch 1/20\n",
      "25000/25000 [==============================] - 12s 473us/step - loss: 0.4797 - acc: 0.7844 - val_loss: 0.2865 - val_acc: 0.8858\n",
      "Epoch 2/20\n",
      "25000/25000 [==============================] - 9s 374us/step - loss: 0.2622 - acc: 0.8965 - val_loss: 0.3249 - val_acc: 0.8649\n",
      "Epoch 3/20\n",
      "25000/25000 [==============================] - 11s 421us/step - loss: 0.1744 - acc: 0.9290 - val_loss: 0.5070 - val_acc: 0.8054\n",
      "Epoch 4/20\n",
      "25000/25000 [==============================] - 11s 422us/step - loss: 0.0976 - acc: 0.9633 - val_loss: 0.3721 - val_acc: 0.8816\n",
      "Epoch 5/20\n",
      "25000/25000 [==============================] - 11s 424us/step - loss: 0.0756 - acc: 0.9840 - val_loss: 0.4519 - val_acc: 0.8805\n",
      "Epoch 6/20\n",
      "25000/25000 [==============================] - 11s 422us/step - loss: 0.0035 - acc: 0.9993 - val_loss: 0.6478 - val_acc: 0.8730\n",
      "Epoch 7/20\n",
      "25000/25000 [==============================] - 11s 428us/step - loss: 0.0925 - acc: 0.9893 - val_loss: 0.6225 - val_acc: 0.8793\n",
      "Epoch 8/20\n",
      "25000/25000 [==============================] - 11s 421us/step - loss: 2.8271e-04 - acc: 1.0000 - val_loss: 0.7616 - val_acc: 0.8791\n",
      "Epoch 9/20\n",
      "25000/25000 [==============================] - 11s 423us/step - loss: 3.3202e-05 - acc: 1.0000 - val_loss: 0.8629 - val_acc: 0.8782\n",
      "Epoch 10/20\n",
      "25000/25000 [==============================] - 11s 422us/step - loss: 3.9844e-06 - acc: 1.0000 - val_loss: 0.9576 - val_acc: 0.8771\n",
      "Epoch 11/20\n",
      "25000/25000 [==============================] - 11s 424us/step - loss: 5.9138e-07 - acc: 1.0000 - val_loss: 1.0361 - val_acc: 0.8781\n",
      "Epoch 12/20\n",
      "25000/25000 [==============================] - 11s 422us/step - loss: 1.8618e-07 - acc: 1.0000 - val_loss: 1.0887 - val_acc: 0.8778\n",
      "Epoch 13/20\n",
      "25000/25000 [==============================] - 11s 423us/step - loss: 1.2857e-07 - acc: 1.0000 - val_loss: 1.1133 - val_acc: 0.8778\n",
      "Epoch 14/20\n",
      "25000/25000 [==============================] - 11s 422us/step - loss: 1.1760e-07 - acc: 1.0000 - val_loss: 1.1273 - val_acc: 0.8777\n",
      "Epoch 15/20\n",
      "25000/25000 [==============================] - 11s 423us/step - loss: 1.1416e-07 - acc: 1.0000 - val_loss: 1.1361 - val_acc: 0.8779\n",
      "Epoch 16/20\n",
      "25000/25000 [==============================] - 11s 423us/step - loss: 1.1254e-07 - acc: 1.0000 - val_loss: 1.1432 - val_acc: 0.8779\n",
      "Epoch 17/20\n",
      "25000/25000 [==============================] - 11s 424us/step - loss: 1.1175e-07 - acc: 1.0000 - val_loss: 1.1490 - val_acc: 0.8778\n",
      "Epoch 18/20\n",
      "25000/25000 [==============================] - 11s 422us/step - loss: 1.1118e-07 - acc: 1.0000 - val_loss: 1.1527 - val_acc: 0.8776\n",
      "Epoch 19/20\n",
      "25000/25000 [==============================] - 11s 426us/step - loss: 1.1095e-07 - acc: 1.0000 - val_loss: 1.1563 - val_acc: 0.8776\n",
      "Epoch 20/20\n",
      "25000/25000 [==============================] - 11s 422us/step - loss: 1.1066e-07 - acc: 1.0000 - val_loss: 1.1597 - val_acc: 0.8775\n"
     ]
    }
   ],
   "source": [
    "bigger_model_hist = bigger_model.fit(x_train, y_train,\n",
    "                                     epochs=20,\n",
    "                                     batch_size=512,\n",
    "                                     validation_data=(x_test, y_test))"
   ]
  },
  {
   "cell_type": "markdown",
   "metadata": {},
   "source": [
    "Here's how the bigger network fares compared to the reference one. The dots are the validation loss values of the bigger network, and the \n",
    "crosses are the initial network."
   ]
  },
  {
   "cell_type": "code",
   "execution_count": 11,
   "metadata": {},
   "outputs": [
    {
     "data": {
      "image/png": "[encoded data removed]",
      "text/plain": [
       "<Figure size 432x288 with 1 Axes>"
      ]
     },
     "metadata": {
      "needs_background": "light"
     },
     "output_type": "display_data"
    }
   ],
   "source": [
    "bigger_model_val_loss = bigger_model_hist.history['val_loss']\n",
    "\n",
    "plt.plot(epochs, original_val_loss, 'b+', label='Original model')\n",
    "plt.plot(epochs, bigger_model_val_loss, 'bo', label='Bigger model')\n",
    "plt.xlabel('Epochs')\n",
    "plt.ylabel('Validation loss')\n",
    "plt.legend()\n",
    "\n",
    "plt.show()"
   ]
  },
  {
   "cell_type": "markdown",
   "metadata": {},
   "source": [
    "\n",
    "The bigger network starts overfitting almost right away, after just one epoch, and overfits much more severely. Its validation loss is also \n",
    "more noisy.\n",
    "\n",
    "Meanwhile, here are the training losses for our two networks:"
   ]
  },
  {
   "cell_type": "code",
   "execution_count": 12,
   "metadata": {},
   "outputs": [
    {
     "data": {
      "image/png": "[encoded data removed]",
      "text/plain": [
       "<Figure size 432x288 with 1 Axes>"
      ]
     },
     "metadata": {
      "needs_background": "light"
     },
     "output_type": "display_data"
    }
   ],
   "source": [
    "original_train_loss = original_hist.history['loss']\n",
    "bigger_model_train_loss = bigger_model_hist.history['loss']\n",
    "\n",
    "plt.plot(epochs, original_train_loss, 'b+', label='Original model')\n",
    "plt.plot(epochs, bigger_model_train_loss, 'bo', label='Bigger model')\n",
    "plt.xlabel('Epochs')\n",
    "plt.ylabel('Training loss')\n",
    "plt.legend()\n",
    "\n",
    "plt.show()"
   ]
  },
  {
   "cell_type": "markdown",
   "metadata": {},
   "source": [
    "As you can see, the bigger network gets its training loss near zero very quickly. The more capacity the network has, the quicker it will be \n",
    "able to model the training data (resulting in a low training loss), but the more susceptible it is to overfitting (resulting in a large \n",
    "difference between the training and validation loss)."
   ]
  },
  {
   "cell_type": "markdown",
   "metadata": {},
   "source": [
    "## Adding weight regularization\n",
    "\n",
    "\n",
    "You may be familiar with _Occam's Razor_ principle: given two explanations for something, the explanation most likely to be correct is the \n",
    "\"simplest\" one, the one that makes the least amount of assumptions. This also applies to the models learned by neural networks: given some \n",
    "training data and a network architecture, there are multiple sets of weights values (multiple _models_) that could explain the data, and \n",
    "simpler models are less likely to overfit than complex ones.\n",
    "\n",
    "A \"simple model\" in this context is a model where the distribution of parameter values has less entropy (or a model with fewer \n",
    "parameters altogether, as we saw in the section above). Thus a common way to mitigate overfitting is to put constraints on the complexity \n",
    "of a network by forcing its weights to only take small values, which makes the distribution of weight values more \"regular\". This is called \n",
    "\"weight regularization\", and it is done by adding to the loss function of the network a _cost_ associated with having large weights. This \n",
    "cost comes in two flavors:\n",
    "\n",
    "* L1 regularization, where the cost added is proportional to the _absolute value of the weights coefficients_ (i.e. to what is called the \n",
    "\"L1 norm\" of the weights).\n",
    "* L2 regularization, where the cost added is proportional to the _square of the value of the weights coefficients_ (i.e. to what is called \n",
    "the \"L2 norm\" of the weights). L2 regularization is also called _weight decay_ in the context of neural networks. Don't let the different \n",
    "name confuse you: weight decay is mathematically the exact same as L2 regularization.\n",
    "\n",
    "In Keras, weight regularization is added by passing _weight regularizer instances_ to layers as keyword arguments. Let's add L2 weight \n",
    "regularization to our movie review classification network:"
   ]
  },
  {
   "cell_type": "code",
   "execution_count": 13,
   "metadata": {},
   "outputs": [],
   "source": [
    "from keras import regularizers\n",
    "\n",
    "l2_model = models.Sequential()\n",
    "l2_model.add(layers.Dense(16, kernel_regularizer=regularizers.l2(0.001),\n",
    "                          activation='relu', input_shape=(10000,)))\n",
    "l2_model.add(layers.Dense(16, kernel_regularizer=regularizers.l2(0.001),\n",
    "                          activation='relu'))\n",
    "l2_model.add(layers.Dense(1, activation='sigmoid'))"
   ]
  },
  {
   "cell_type": "code",
   "execution_count": 14,
   "metadata": {},
   "outputs": [],
   "source": [
    "l2_model.compile(optimizer='rmsprop',\n",
    "                 loss='binary_crossentropy',\n",
    "                 metrics=['acc'])"
   ]
  },
  {
   "cell_type": "markdown",
   "metadata": {},
   "source": [
    "`l2(0.001)` means that every coefficient in the weight matrix of the layer will add `0.001 * weight_coefficient_value` to the total loss of \n",
    "the network. Note that because this penalty is _only added at training time_, the loss for this network will be much higher at training \n",
    "than at test time.\n",
    "\n",
    "Here's the impact of our L2 regularization penalty:"
   ]
  },
  {
   "cell_type": "code",
   "execution_count": 15,
   "metadata": {},
   "outputs": [
    {
     "name": "stdout",
     "output_type": "stream",
     "text": [
      "Train on 25000 samples, validate on 25000 samples\n",
      "Epoch 1/20\n",
      "25000/25000 [==============================] - 3s 118us/step - loss: 0.4896 - acc: 0.8144 - val_loss: 0.3894 - val_acc: 0.8660\n",
      "Epoch 2/20\n",
      "25000/25000 [==============================] - 2s 68us/step - loss: 0.3102 - acc: 0.9058 - val_loss: 0.3299 - val_acc: 0.8890\n",
      "Epoch 3/20\n",
      "25000/25000 [==============================] - 2s 71us/step - loss: 0.2648 - acc: 0.9204 - val_loss: 0.3286 - val_acc: 0.8872\n",
      "Epoch 4/20\n",
      "25000/25000 [==============================] - 2s 69us/step - loss: 0.2446 - acc: 0.9295 - val_loss: 0.3405 - val_acc: 0.8820\n",
      "Epoch 5/20\n",
      "25000/25000 [==============================] - 2s 71us/step - loss: 0.2309 - acc: 0.9352 - val_loss: 0.3821 - val_acc: 0.8682\n",
      "Epoch 6/20\n",
      "25000/25000 [==============================] - 2s 69us/step - loss: 0.2224 - acc: 0.9391 - val_loss: 0.3645 - val_acc: 0.8756\n",
      "Epoch 7/20\n",
      "25000/25000 [==============================] - 2s 71us/step - loss: 0.2154 - acc: 0.9418 - val_loss: 0.3758 - val_acc: 0.8736\n",
      "Epoch 8/20\n",
      "25000/25000 [==============================] - 2s 69us/step - loss: 0.2090 - acc: 0.9449 - val_loss: 0.3730 - val_acc: 0.8757\n",
      "Epoch 9/20\n",
      "25000/25000 [==============================] - 2s 72us/step - loss: 0.2030 - acc: 0.9468 - val_loss: 0.3759 - val_acc: 0.8753\n",
      "Epoch 10/20\n",
      "25000/25000 [==============================] - 2s 69us/step - loss: 0.1995 - acc: 0.9505 - val_loss: 0.3813 - val_acc: 0.8748\n",
      "Epoch 11/20\n",
      "25000/25000 [==============================] - 2s 72us/step - loss: 0.1937 - acc: 0.9494 - val_loss: 0.3832 - val_acc: 0.8760\n",
      "Epoch 12/20\n",
      "25000/25000 [==============================] - 2s 69us/step - loss: 0.1913 - acc: 0.9510 - val_loss: 0.3928 - val_acc: 0.8741\n",
      "Epoch 13/20\n",
      "25000/25000 [==============================] - 2s 72us/step - loss: 0.1867 - acc: 0.9543 - val_loss: 0.3970 - val_acc: 0.8733\n",
      "Epoch 14/20\n",
      "25000/25000 [==============================] - 2s 71us/step - loss: 0.1810 - acc: 0.9566 - val_loss: 0.4043 - val_acc: 0.8725\n",
      "Epoch 15/20\n",
      "25000/25000 [==============================] - 2s 71us/step - loss: 0.1767 - acc: 0.9588 - val_loss: 0.4982 - val_acc: 0.8450\n",
      "Epoch 16/20\n",
      "25000/25000 [==============================] - 2s 68us/step - loss: 0.1776 - acc: 0.9578 - val_loss: 0.4440 - val_acc: 0.8651\n",
      "Epoch 17/20\n",
      "25000/25000 [==============================] - 2s 71us/step - loss: 0.1707 - acc: 0.9623 - val_loss: 0.4768 - val_acc: 0.8572\n",
      "Epoch 18/20\n",
      "25000/25000 [==============================] - 2s 69us/step - loss: 0.1716 - acc: 0.9603 - val_loss: 0.4353 - val_acc: 0.8680\n",
      "Epoch 19/20\n",
      "25000/25000 [==============================] - 2s 71us/step - loss: 0.1655 - acc: 0.9641 - val_loss: 0.4371 - val_acc: 0.8672\n",
      "Epoch 20/20\n",
      "25000/25000 [==============================] - 2s 68us/step - loss: 0.1626 - acc: 0.9657 - val_loss: 0.4335 - val_acc: 0.8695\n"
     ]
    }
   ],
   "source": [
    "l2_model_hist = l2_model.fit(x_train, y_train,\n",
    "                             epochs=20,\n",
    "                             batch_size=512,\n",
    "                             validation_data=(x_test, y_test))"
   ]
  },
  {
   "cell_type": "code",
   "execution_count": 16,
   "metadata": {},
   "outputs": [
    {
     "data": {
      "image/png": "[encoded data removed]",
      "text/plain": [
       "<Figure size 432x288 with 1 Axes>"
      ]
     },
     "metadata": {
      "needs_background": "light"
     },
     "output_type": "display_data"
    }
   ],
   "source": [
    "l2_model_val_loss = l2_model_hist.history['val_loss']\n",
    "\n",
    "plt.plot(epochs, original_val_loss, 'b+', label='Original model')\n",
    "plt.plot(epochs, l2_model_val_loss, 'bo', label='L2-regularized model')\n",
    "plt.xlabel('Epochs')\n",
    "plt.ylabel('Validation loss')\n",
    "plt.legend()\n",
    "\n",
    "plt.show()"
   ]
  },
  {
   "cell_type": "markdown",
   "metadata": {},
   "source": [
    "\n",
    "\n",
    "As you can see, the model with L2 regularization (dots) has become much more resistant to overfitting than the reference model (crosses), \n",
    "even though both models have the same number of parameters.\n",
    "\n",
    "As alternatives to L2 regularization, you could use one of the following Keras weight regularizers:"
   ]
  },
  {
   "cell_type": "code",
   "execution_count": 17,
   "metadata": {},
   "outputs": [
    {
     "data": {
      "text/plain": [
       "<keras.regularizers.L1L2 at 0x7fa34f9aa510>"
      ]
     },
     "execution_count": 17,
     "metadata": {},
     "output_type": "execute_result"
    }
   ],
   "source": [
    "from keras import regularizers\n",
    "\n",
    "# L1 regularization\n",
    "regularizers.l1(0.001)\n",
    "\n",
    "# L1 and L2 regularization at the same time\n",
    "regularizers.l1_l2(l1=0.001, l2=0.001)"
   ]
  },
  {
   "cell_type": "markdown",
   "metadata": {},
   "source": [
    "## Adding dropout\n",
    "\n",
    "\n",
    "Dropout is one of the most effective and most commonly used regularization techniques for neural networks. Dropout, applied to a layer, consists of randomly \"dropping out\" (i.e. setting to zero) a number of \n",
    "output features of the layer during training. Let's say a given layer would normally have returned a vector `[0.2, 0.5, 1.3, 0.8, 1.1]` for a \n",
    "given input sample during training; after applying dropout, this vector will have a few zero entries distributed at random, e.g. `[0, 0.5, \n",
    "1.3, 0, 1.1]`. The \"dropout rate\" is the fraction of the features that are being zeroed-out; it is usually set between 0.2 and 0.5. At test \n",
    "time, no units are dropped out, and instead the layer's output values are scaled down by a factor equal to the dropout rate, so as to \n",
    "balance for the fact that more units are active than at training time."
   ]
  },
  {
   "cell_type": "markdown",
   "metadata": {},
   "source": [
    "The core idea is that introducing noise in the output values of a layer can break up patterns that are not significant, which the network would start memorizing if no noise was present. \n",
    "\n",
    "In Keras you can introduce dropout in a network via the `Dropout` layer, which gets applied to the output of layer right before it, e.g.:"
   ]
  },
  {
   "cell_type": "markdown",
   "metadata": {},
   "source": [
    "Let's add two `Dropout` layers in our IMDB network to see how well they do at reducing overfitting:"
   ]
  },
  {
   "cell_type": "code",
   "execution_count": 18,
   "metadata": {},
   "outputs": [
    {
     "name": "stdout",
     "output_type": "stream",
     "text": [
      "WARNING:tensorflow:From /home/adelard/anaconda3/lib/python3.7/site-packages/keras/backend/tensorflow_backend.py:133: The name tf.placeholder_with_default is deprecated. Please use tf.compat.v1.placeholder_with_default instead.\n",
      "\n",
      "WARNING:tensorflow:From /home/adelard/anaconda3/lib/python3.7/site-packages/keras/backend/tensorflow_backend.py:3445: calling dropout (from tensorflow.python.ops.nn_ops) with keep_prob is deprecated and will be removed in a future version.\n",
      "Instructions for updating:\n",
      "Please use `rate` instead of `keep_prob`. Rate should be set to `rate = 1 - keep_prob`.\n"
     ]
    }
   ],
   "source": [
    "dpt_model = models.Sequential()\n",
    "dpt_model.add(layers.Dense(16, activation='relu', input_shape=(10000,)))\n",
    "dpt_model.add(layers.Dropout(0.5))\n",
    "dpt_model.add(layers.Dense(16, activation='relu'))\n",
    "dpt_model.add(layers.Dropout(0.5))\n",
    "dpt_model.add(layers.Dense(1, activation='sigmoid'))\n",
    "\n",
    "dpt_model.compile(optimizer='rmsprop',\n",
    "                  loss='binary_crossentropy',\n",
    "                  metrics=['acc'])"
   ]
  },
  {
   "cell_type": "code",
   "execution_count": 19,
   "metadata": {},
   "outputs": [
    {
     "name": "stdout",
     "output_type": "stream",
     "text": [
      "Train on 25000 samples, validate on 25000 samples\n",
      "Epoch 1/20\n",
      "25000/25000 [==============================] - 3s 126us/step - loss: 0.5897 - acc: 0.6839 - val_loss: 0.4310 - val_acc: 0.8621\n",
      "Epoch 2/20\n",
      "25000/25000 [==============================] - 2s 68us/step - loss: 0.4350 - acc: 0.8175 - val_loss: 0.3484 - val_acc: 0.8689\n",
      "Epoch 3/20\n",
      "25000/25000 [==============================] - 2s 70us/step - loss: 0.3469 - acc: 0.8716 - val_loss: 0.2919 - val_acc: 0.8866\n",
      "Epoch 4/20\n",
      "25000/25000 [==============================] - 2s 67us/step - loss: 0.2887 - acc: 0.8983 - val_loss: 0.2765 - val_acc: 0.8882\n",
      "Epoch 5/20\n",
      "25000/25000 [==============================] - 2s 71us/step - loss: 0.2545 - acc: 0.9132 - val_loss: 0.2806 - val_acc: 0.8882\n",
      "Epoch 6/20\n",
      "25000/25000 [==============================] - 2s 68us/step - loss: 0.2237 - acc: 0.9254 - val_loss: 0.2881 - val_acc: 0.8870\n",
      "Epoch 7/20\n",
      "25000/25000 [==============================] - 2s 70us/step - loss: 0.1991 - acc: 0.9343 - val_loss: 0.3203 - val_acc: 0.8854\n",
      "Epoch 8/20\n",
      "25000/25000 [==============================] - 2s 69us/step - loss: 0.1804 - acc: 0.9412 - val_loss: 0.3298 - val_acc: 0.8846\n",
      "Epoch 9/20\n",
      "25000/25000 [==============================] - 2s 70us/step - loss: 0.1743 - acc: 0.9433 - val_loss: 0.3523 - val_acc: 0.8834\n",
      "Epoch 10/20\n",
      "25000/25000 [==============================] - 2s 68us/step - loss: 0.1559 - acc: 0.9487 - val_loss: 0.3735 - val_acc: 0.8837\n",
      "Epoch 11/20\n",
      "25000/25000 [==============================] - 2s 70us/step - loss: 0.1487 - acc: 0.9515 - val_loss: 0.3943 - val_acc: 0.8803\n",
      "Epoch 12/20\n",
      "25000/25000 [==============================] - 2s 68us/step - loss: 0.1395 - acc: 0.9560 - val_loss: 0.4258 - val_acc: 0.8769\n",
      "Epoch 13/20\n",
      "25000/25000 [==============================] - 2s 69us/step - loss: 0.1276 - acc: 0.9576 - val_loss: 0.4500 - val_acc: 0.8771\n",
      "Epoch 14/20\n",
      "25000/25000 [==============================] - 2s 68us/step - loss: 0.1232 - acc: 0.9590 - val_loss: 0.4479 - val_acc: 0.8769\n",
      "Epoch 15/20\n",
      "25000/25000 [==============================] - 2s 70us/step - loss: 0.1194 - acc: 0.9604 - val_loss: 0.4852 - val_acc: 0.8728\n",
      "Epoch 16/20\n",
      "25000/25000 [==============================] - 2s 68us/step - loss: 0.1194 - acc: 0.9617 - val_loss: 0.5098 - val_acc: 0.8756\n",
      "Epoch 17/20\n",
      "25000/25000 [==============================] - 2s 70us/step - loss: 0.1121 - acc: 0.9625 - val_loss: 0.5537 - val_acc: 0.8739\n",
      "Epoch 18/20\n",
      "25000/25000 [==============================] - 2s 67us/step - loss: 0.1134 - acc: 0.9633 - val_loss: 0.5504 - val_acc: 0.8743\n",
      "Epoch 19/20\n",
      "25000/25000 [==============================] - 2s 71us/step - loss: 0.1032 - acc: 0.9648 - val_loss: 0.5702 - val_acc: 0.8732\n",
      "Epoch 20/20\n",
      "25000/25000 [==============================] - 2s 67us/step - loss: 0.1059 - acc: 0.9670 - val_loss: 0.5716 - val_acc: 0.8710\n"
     ]
    }
   ],
   "source": [
    "dpt_model_hist = dpt_model.fit(x_train, y_train,\n",
    "                               epochs=20,\n",
    "                               batch_size=512,\n",
    "                               validation_data=(x_test, y_test))"
   ]
  },
  {
   "cell_type": "markdown",
   "metadata": {},
   "source": [
    "Let's plot the results:"
   ]
  },
  {
   "cell_type": "code",
   "execution_count": 20,
   "metadata": {},
   "outputs": [
    {
     "data": {
      "image/png": "[encoded data removed]",
      "text/plain": [
       "<Figure size 432x288 with 1 Axes>"
      ]
     },
     "metadata": {
      "needs_background": "light"
     },
     "output_type": "display_data"
    }
   ],
   "source": [
    "dpt_model_val_loss = dpt_model_hist.history['val_loss']\n",
    "\n",
    "plt.plot(epochs, original_val_loss, 'b+', label='Original model')\n",
    "plt.plot(epochs, dpt_model_val_loss, 'bo', label='Dropout-regularized model')\n",
    "plt.xlabel('Epochs')\n",
    "plt.ylabel('Validation loss')\n",
    "plt.legend()\n",
    "\n",
    "plt.show()"
   ]
  },
  {
   "cell_type": "markdown",
   "metadata": {},
   "source": [
    "\n",
    "Again, a clear improvement over the reference network.\n",
    "\n",
    "To recap: here the most common ways to prevent overfitting in neural networks:\n",
    "\n",
    "* Getting more training data.\n",
    "* Reducing the capacity of the network.\n",
    "* Adding weight regularization.\n",
    "* Adding dropout."
   ]
  },
  {
   "cell_type": "code",
   "execution_count": null,
   "metadata": {},
   "outputs": [],
   "source": []
  }
 ],
 "metadata": {
  "kernelspec": {
   "display_name": "Python 3",
   "language": "python",
   "name": "python3"
  },
  "language_info": {
   "codemirror_mode": {
    "name": "ipython",
    "version": 3
   },
   "file_extension": ".py",
   "mimetype": "text/x-python",
   "name": "python",
   "nbconvert_exporter": "python",
   "pygments_lexer": "ipython3",
   "version": "3.7.6"
  }
 },
 "nbformat": 4,
 "nbformat_minor": 2
}
