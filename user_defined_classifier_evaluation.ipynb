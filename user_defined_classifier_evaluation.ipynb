{
 "cells": [
  {
   "cell_type": "code",
   "execution_count": 1,
   "metadata": {},
   "outputs": [],
   "source": [
    "# User-defined Evaluation Accuracy of a Binary Classifier"
   ]
  },
  {
   "cell_type": "code",
   "execution_count": 2,
   "metadata": {},
   "outputs": [],
   "source": [
    "def evaluation_accuracy(predicted, observed):\n",
    "    import pandas as pd \n",
    "    if(len(predicted) != len(observed)):\n",
    "        print('\\nevaluate_classifier error:',\\\n",
    "             ' predicted and observed must be the same length\\n')\n",
    "        return(None) \n",
    "    if(len(set(predicted)) != 2):\n",
    "        print('\\nevaluate_classifier error:',\\\n",
    "              ' predicted must be binary\\n')\n",
    "        return(None)          \n",
    "    if(len(set(observed)) != 2):\n",
    "        print('\\nevaluate_classifier error:',\\\n",
    "              ' observed must be binary\\n')\n",
    "        return(None)          \n",
    "\n",
    "    predicted_data = predicted\n",
    "    observed_data = observed\n",
    "    input_data = {'predicted': predicted_data,'observed':observed_data}\n",
    "    input_data_frame = pd.DataFrame(input_data)\n",
    "    \n",
    "    cmat = pd.crosstab(input_data_frame['predicted'],\\\n",
    "        input_data_frame['observed']) \n",
    "    a = float(cmat.ix[0,0])\n",
    "    b = float(cmat.ix[0,1])\n",
    "    c = float(cmat.ix[1,0]) \n",
    "    d = float(cmat.ix[1,1])\n",
    "    n = a + b + c + d\n",
    "    predictive_accuracy = (a + d)/n\n",
    "    true_positive_rate = a / (a + c)\n",
    "    false_positive_rate = b / (b + d)\n",
    "    precision = a / (a + b)\n",
    "    specificity = 1 - false_positive_rate   \n",
    "    expected_accuracy = (((a + b)*(a + c)) + ((b + d)*(c + d)))/(n * n)\n",
    "    kappa = (predictive_accuracy - expected_accuracy)\\\n",
    "       /(1 - expected_accuracy)   \n",
    "    return(a, b, c, d, predictive_accuracy, true_positive_rate, specificity,\\\n",
    "        false_positive_rate, precision, expected_accuracy, kappa)"
   ]
  },
  {
   "cell_type": "code",
   "execution_count": null,
   "metadata": {},
   "outputs": [],
   "source": []
  }
 ],
 "metadata": {
  "kernelspec": {
   "display_name": "Python 3",
   "language": "python",
   "name": "python3"
  },
  "language_info": {
   "codemirror_mode": {
    "name": "ipython",
    "version": 3
   },
   "file_extension": ".py",
   "mimetype": "text/x-python",
   "name": "python",
   "nbconvert_exporter": "python",
   "pygments_lexer": "ipython3",
   "version": "3.7.4"
  }
 },
 "nbformat": 4,
 "nbformat_minor": 2
}
