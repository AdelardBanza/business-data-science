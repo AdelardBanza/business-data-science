{
 "cells": [
  {
   "cell_type": "markdown",
   "metadata": {},
   "source": [
    "# Direct Target Marketing"
   ]
  },
  {
   "cell_type": "markdown",
   "metadata": {},
   "source": [
    "mass marketing sees all customers as one unit. One-to-one marketing focuses on one customer at a time. Direct target marketing lies between mass marketing and one-to-one marketing. Direct target marketing involves activities to those customers who are most likely to buy the product. \n",
    "\n",
    "Direct target marketing implies selection. Some customers are identified as more valuable than others and these more valued customers are given special attention. \n",
    "\n",
    "By using direct target marketing properly, companies can improve its profitability, increasing revenues and decreasing costs. \n",
    "\n",
    "Models for direct marketing: Bank Casework\n",
    "\n",
    "- What do we mean by a direct marketing model? Classification into likely buyers vs. non-buyers \n",
    "\n",
    "- Shall we have one model or many (one for each segment or one for each mailing)?\n",
    "\n",
    "- Define a meaningful response and a set of legitimate explanatory variables (no independent/dependent variable confounding)\n",
    "\n",
    "- Training/test approach to model testing: Do explonatory analysis and data preparation on the training set alone. Develop targeting model (model specification and subset selection) on the training set alone.\n",
    "\n",
    "- Evaluate the model on the test set using statistical and financial evaluation criteria\n",
    "\n",
    "- Develop specific recommendations for management - which customers should be sent mailings (likely buyers predicted by the model)?\n",
    "\n",
    "- What's the profit contribution of the model? Without the model, we mail to everyone. With the model we mail only to predicted likely buyers. Using the test set predict costs and sales with and without using the model for targeting. "
   ]
  },
  {
   "cell_type": "markdown",
   "metadata": {},
   "source": [
    "### Project workspace setup"
   ]
  },
  {
   "cell_type": "code",
   "execution_count": 1,
   "metadata": {},
   "outputs": [],
   "source": [
    "# Python >= 3.7\n",
    "import sys\n",
    "\n",
    "# Scikit-Learn >= 0.22\n",
    "import sklearn\n",
    "\n",
    "# Common import packages for text processing and machine learning\n",
    "import numpy as np # arrays and numerical processing\n",
    "import pandas as pd # DataFrame structure and operations\n",
    "import os\n",
    "\n",
    "# Making the notebook's output stable across runs\n",
    "np.random.seed(31)\n",
    "\n",
    "# To plot figures\n",
    "%matplotlib inline\n",
    "import matplotlib as mp\n",
    "import matplotlib.pyplot as plt # 2D plotting\n",
    "mp.rc('axes', labelsize=14)\n",
    "mp.rc('xtick', labelsize=12)\n",
    "mp.rc('ytick', labelsize=12)\n",
    "\n",
    "# Where to save the figures\n",
    "PROJECT_DIR = \".\"\n",
    "SECTION_ID = \"targeting_customers\"\n",
    "IMAGES_PATH = os.path.join(PROJECT_DIR, \"images\", SECTION_ID)\n",
    "os.makedirs(IMAGES_PATH, exist_ok=True)\n",
    "\n",
    "def save_img(fig_id, tight_layout=True, fig_extension=\"png\", resolution=300):\n",
    "    path = os.path.join(IMAGES_PATH, fig_id + \".\" + fig_extension)\n",
    "    print(\"Saving image\", fig_id)\n",
    "    if tight_layout:\n",
    "        plt.tight_layout()\n",
    "    plt.savefig(path, format=fig_extension, dpi=resolution)\n",
    "    \n",
    "# Ignore useless warnings\n",
    "import warnings\n",
    "warnings.filterwarnings(action=\"ignore\", message=\"^internal gelsd\")"
   ]
  },
  {
   "cell_type": "markdown",
   "metadata": {},
   "source": [
    "### Get the data"
   ]
  },
  {
   "cell_type": "code",
   "execution_count": 2,
   "metadata": {},
   "outputs": [],
   "source": [
    "bankData = pd.read_csv('datasets/bank.csv', sep=';')"
   ]
  },
  {
   "cell_type": "code",
   "execution_count": 3,
   "metadata": {},
   "outputs": [
    {
     "name": "stdout",
     "output_type": "stream",
     "text": [
      "   age          job  marital  education default  balance housing loan  \\\n",
      "0   30   unemployed  married    primary      no     1787      no   no   \n",
      "1   33     services  married  secondary      no     4789     yes  yes   \n",
      "2   35   management   single   tertiary      no     1350     yes   no   \n",
      "3   30   management  married   tertiary      no     1476     yes  yes   \n",
      "4   59  blue-collar  married  secondary      no        0     yes   no   \n",
      "\n",
      "    contact  day month  duration  campaign  pdays  previous poutcome response  \n",
      "0  cellular   19   oct        79         1     -1         0  unknown       no  \n",
      "1  cellular   11   may       220         1    339         4  failure       no  \n",
      "2  cellular   16   apr       185         1    330         1  failure       no  \n",
      "3   unknown    3   jun       199         4     -1         0  unknown       no  \n",
      "4   unknown    5   may       226         1     -1         0  unknown       no  \n"
     ]
    }
   ],
   "source": [
    "print(bankData.head())"
   ]
  },
  {
   "cell_type": "markdown",
   "metadata": {},
   "source": [
    "### Defining parameters\n",
    "We need to identify parameters that are useful and determine how to use those parameters in our models.\n",
    "A response parameter is something we would like to predict, or whether a customer would buy a product. \n",
    "Customer lifetime value is a multiple response parameter, calculated from many transactions with each customer, and these transactions include observations of sales and costs."
   ]
  },
  {
   "cell_type": "code",
   "execution_count": 4,
   "metadata": {},
   "outputs": [],
   "source": [
    "jobtitle = {'admin.': 'White Collar', 'entrepreneur': 'White Collar', 'management': 'White Collar',\n",
    "          'self-employed': 'White Collar', 'blue-collar': 'Blue Collar', 'services': 'Blue Collar',\n",
    "          'technician': 'Blue Collar'}\n",
    "marital_status = {'divorced': 'Divorced', 'married': 'Married', 'single': 'Single'}\n",
    "education_level = {'primary': 'Primary', 'secondary': 'Secondary', 'tertiary': 'Tertiary'}\n",
    "yesno = {'yes': 1, 'no': 0}\n",
    "\n",
    "# jobtype \n",
    "bankData['jobtype'] = bankData['job'].map(jobtitle)\n",
    "bankData['jobtype'] = bankData['jobtype'].fillna('Other')\n",
    "\n",
    "# marital status\n",
    "bankData['marital'] = bankData['marital'].map(marital_status)\n",
    "bankData['marital'] = bankData['marital'].fillna('Unknown')\n",
    "\n",
    "# education\n",
    "bankData['education'] = bankData['education'].map(education_level)\n",
    "bankData['education'] = bankData['education'].fillna('Unknown')\n",
    "\n",
    "# default\n",
    "bankData['default'] = bankData['default'].map(yesno)\n",
    "bankData['default'] = bankData['default'].fillna('No')\n",
    "\n",
    "# housing\n",
    "bankData['housing'] = bankData['housing'].map(yesno)\n",
    "bankData['housing'] = bankData['housing'].fillna('No')\n",
    "\n",
    "# loan\n",
    "bankData['loan'] = bankData['loan'].map(yesno)\n",
    "bankData['loan'] = bankData['loan'].fillna('No')\n",
    "\n",
    "# response\n",
    "bankData['response'] = bankData['response'].map(yesno)\n",
    "bankData['response'] = bankData['response'].fillna('No')"
   ]
  },
  {
   "cell_type": "code",
   "execution_count": 5,
   "metadata": {},
   "outputs": [],
   "source": [
    "# selecting the subset of customers who are approached for the first time. \n",
    "# Part of the goal of direct target marketing is to deal with low response rates and promotional efforts. \n",
    "\n",
    "first_time_customers = bankData['pdays'].map(lambda x: x == -1)\n",
    "\n",
    "first_time_bankData = pd.DataFrame(bankData[first_time_customers], columns = [\n",
    "    'response', 'age', 'jobtype', 'education', 'marital', 'default', 'balance', 'housing', 'loan'])"
   ]
  },
  {
   "cell_type": "code",
   "execution_count": 6,
   "metadata": {},
   "outputs": [
    {
     "name": "stdout",
     "output_type": "stream",
     "text": [
      "   response  age       jobtype  education  marital  default  balance  housing  \\\n",
      "0         0   30         Other    Primary  Married        0     1787        0   \n",
      "3         0   30  White Collar   Tertiary  Married        0     1476        1   \n",
      "4         0   59   Blue Collar  Secondary  Married        0        0        1   \n",
      "7         0   39   Blue Collar  Secondary  Married        0      147        1   \n",
      "8         0   41  White Collar   Tertiary  Married        0      221        1   \n",
      "\n",
      "   loan  \n",
      "0     0  \n",
      "3     1  \n",
      "4     0  \n",
      "7     0  \n",
      "8     0  \n"
     ]
    }
   ],
   "source": [
    "print(first_time_bankData.head())"
   ]
  },
  {
   "cell_type": "code",
   "execution_count": 7,
   "metadata": {},
   "outputs": [
    {
     "name": "stdout",
     "output_type": "stream",
     "text": [
      "<class 'pandas.core.frame.DataFrame'>\n",
      "Int64Index: 3705 entries, 0 to 4518\n",
      "Data columns (total 9 columns):\n",
      "response     3705 non-null int64\n",
      "age          3705 non-null int64\n",
      "jobtype      3705 non-null object\n",
      "education    3705 non-null object\n",
      "marital      3705 non-null object\n",
      "default      3705 non-null int64\n",
      "balance      3705 non-null int64\n",
      "housing      3705 non-null int64\n",
      "loan         3705 non-null int64\n",
      "dtypes: int64(6), object(3)\n",
      "memory usage: 289.5+ KB\n",
      "None\n"
     ]
    }
   ],
   "source": [
    "print(first_time_bankData.info())"
   ]
  },
  {
   "cell_type": "code",
   "execution_count": 8,
   "metadata": {},
   "outputs": [
    {
     "name": "stdout",
     "output_type": "stream",
     "text": [
      "          response          age      default       balance      housing  \\\n",
      "count  3705.000000  3705.000000  3705.000000   3705.000000  3705.000000   \n",
      "mean      0.090958    41.083671     0.019163   1374.862078     0.551417   \n",
      "std       0.287588    10.373818     0.137117   3008.524207     0.497416   \n",
      "min       0.000000    19.000000     0.000000  -3313.000000     0.000000   \n",
      "25%       0.000000    33.000000     0.000000     60.000000     0.000000   \n",
      "50%       0.000000    39.000000     0.000000    415.000000     1.000000   \n",
      "75%       0.000000    49.000000     0.000000   1412.000000     1.000000   \n",
      "max       1.000000    87.000000     1.000000  71188.000000     1.000000   \n",
      "\n",
      "              loan  \n",
      "count  3705.000000  \n",
      "mean      0.159784  \n",
      "std       0.366455  \n",
      "min       0.000000  \n",
      "25%       0.000000  \n",
      "50%       0.000000  \n",
      "75%       0.000000  \n",
      "max       1.000000  \n"
     ]
    }
   ],
   "source": [
    "print(first_time_bankData.describe())"
   ]
  },
  {
   "cell_type": "code",
   "execution_count": 9,
   "metadata": {},
   "outputs": [
    {
     "name": "stdout",
     "output_type": "stream",
     "text": [
      "Proportion of bank customers responding to offer:  0.09096 \n",
      "\n"
     ]
    }
   ],
   "source": [
    "# examining baseline response rate\n",
    "accepted_offer = first_time_bankData['response'].map(lambda x: x == 1)\n",
    "baseline = len(first_time_bankData[accepted_offer]) / len(first_time_bankData)\n",
    "print('Proportion of bank customers responding to offer: ', round(baseline, 5), '\\n')"
   ]
  },
  {
   "cell_type": "markdown",
   "metadata": {},
   "source": [
    "### Variables of interest\n",
    "Parameters are used to predict response parameters. Parameters can be continous, having meaningful magnitude or categorical, without meaningful magnitude. \n",
    "\n",
    "Common parameters of interst in business-to-consumer marketing involve demographics, behavioral, and lifestyle parameters. In business-to-business marketing, parameters of interest include the business, industry sector, and the geographic location. In either case, parameters of interst can come from anything that we know about the customers, including past transactions and support history with customers. "
   ]
  },
  {
   "cell_type": "code",
   "execution_count": 10,
   "metadata": {},
   "outputs": [
    {
     "name": "stdout",
     "output_type": "stream",
     "text": [
      "                age\n",
      "response           \n",
      "0         40.983076\n",
      "1         42.089021\n",
      "              balance\n",
      "response             \n",
      "0         1359.654097\n",
      "1         1526.851632\n"
     ]
    }
   ],
   "source": [
    "# average continous parameters by response. When the response parameter is continous, \n",
    "# we use regression to make the prediction\n",
    "\n",
    "print(first_time_bankData.pivot_table(['age'], index = ['response']))\n",
    "print(first_time_bankData.pivot_table(['balance'], index = ['response']))"
   ]
  },
  {
   "cell_type": "code",
   "execution_count": 11,
   "metadata": {},
   "outputs": [
    {
     "name": "stdout",
     "output_type": "stream",
     "text": [
      "              response\n",
      "jobtype               \n",
      "Blue Collar   0.072072\n",
      "Other         0.144958\n",
      "White Collar  0.096352\n",
      "           response\n",
      "education          \n",
      "Primary    0.082759\n",
      "Secondary  0.082496\n",
      "Tertiary   0.112546\n",
      "Unknown    0.073333\n",
      "          response\n",
      "marital           \n",
      "Divorced  0.126411\n",
      "Married   0.073753\n",
      "Single    0.115987\n",
      "         response\n",
      "default          \n",
      "0        0.090534\n",
      "1        0.112676\n",
      "         response\n",
      "housing          \n",
      "0        0.116727\n",
      "1        0.069995\n",
      "      response\n",
      "loan          \n",
      "0     0.098619\n",
      "1     0.050676\n"
     ]
    }
   ],
   "source": [
    "# examining categorical parameters by response. When the response parameter is categorical,\n",
    "# we use classification.\n",
    "\n",
    "print(first_time_bankData.pivot_table(['response'], index = ['jobtype']))\n",
    "print(first_time_bankData.pivot_table(['response'], index = ['education']))\n",
    "print(first_time_bankData.pivot_table(['response'], index = ['marital']))\n",
    "print(first_time_bankData.pivot_table(['response'], index = ['default']))\n",
    "print(first_time_bankData.pivot_table(['response'], index = ['housing']))\n",
    "print(first_time_bankData.pivot_table(['response'], index = ['loan']))"
   ]
  },
  {
   "cell_type": "code",
   "execution_count": 12,
   "metadata": {},
   "outputs": [
    {
     "name": "stdout",
     "output_type": "stream",
     "text": [
      "   response  age       jobtype  education  marital  default  balance  housing  \\\n",
      "0         0   30         Other    Primary  Married        0     1787        0   \n",
      "3         0   30  White Collar   Tertiary  Married        0     1476        1   \n",
      "4         0   59   Blue Collar  Secondary  Married        0        0        1   \n",
      "7         0   39   Blue Collar  Secondary  Married        0      147        1   \n",
      "8         0   41  White Collar   Tertiary  Married        0      221        1   \n",
      "\n",
      "   loan  \n",
      "0     0  \n",
      "3     1  \n",
      "4     0  \n",
      "7     0  \n",
      "8     0  \n"
     ]
    }
   ],
   "source": [
    "print(first_time_bankData.head())"
   ]
  },
  {
   "cell_type": "code",
   "execution_count": 13,
   "metadata": {},
   "outputs": [
    {
     "name": "stdout",
     "output_type": "stream",
     "text": [
      "Saving image attribute_histogram_plots\n"
     ]
    },
    {
     "data": {
      "image/png": "[encoded data removed]",
      "text/plain": [
       "<Figure size 1440x1080 with 6 Axes>"
      ]
     },
     "metadata": {
      "needs_background": "light"
     },
     "output_type": "display_data"
    }
   ],
   "source": [
    "%matplotlib inline\n",
    "import matplotlib.pyplot as plt\n",
    "first_time_bankData.hist(bins=50, figsize=(20, 15))\n",
    "save_img(\"attribute_histogram_plots\")\n",
    "plt.show()"
   ]
  },
  {
   "cell_type": "code",
   "execution_count": 14,
   "metadata": {},
   "outputs": [],
   "source": [
    "import patsy\n",
    "import statsmodels.api as sm\n",
    "import statsmodels.formula as smf\n",
    "# matrix for statsmodels\n",
    "bank_logit = 'response ~ age + jobtype + education + marital + default + balance + housing + loan'\n",
    "y, x = patsy.dmatrices(bank_logit, first_time_bankData, return_type = 'dataframe')"
   ]
  },
  {
   "cell_type": "code",
   "execution_count": 15,
   "metadata": {},
   "outputs": [
    {
     "name": "stdout",
     "output_type": "stream",
     "text": [
      "Optimization terminated successfully.\n",
      "         Current function value: 0.293877\n",
      "         Iterations 7\n",
      "                           Logit Regression Results                           \n",
      "==============================================================================\n",
      "Dep. Variable:               response   No. Observations:                 3705\n",
      "Model:                          Logit   Df Residuals:                     3692\n",
      "Method:                           MLE   Df Model:                           12\n",
      "Date:                Fri, 16 Aug 2019   Pseudo R-squ.:                 0.03568\n",
      "Time:                        17:49:14   Log-Likelihood:                -1088.8\n",
      "converged:                       True   LL-Null:                       -1129.1\n",
      "Covariance Type:            nonrobust   LLR p-value:                 3.223e-12\n",
      "===========================================================================================\n",
      "                              coef    std err          z      P>|z|      [0.025      0.975]\n",
      "-------------------------------------------------------------------------------------------\n",
      "Intercept                  -2.3937      0.390     -6.132      0.000      -3.159      -1.629\n",
      "jobtype[T.Other]            0.5574      0.173      3.223      0.001       0.218       0.896\n",
      "jobtype[T.White Collar]     0.1435      0.145      0.992      0.321      -0.140       0.427\n",
      "education[T.Secondary]      0.1036      0.182      0.569      0.569      -0.253       0.460\n",
      "education[T.Tertiary]       0.3025      0.204      1.481      0.139      -0.098       0.703\n",
      "education[T.Unknown]       -0.3338      0.353     -0.946      0.344      -1.025       0.358\n",
      "marital[T.Married]         -0.5717      0.167     -3.428      0.001      -0.899      -0.245\n",
      "marital[T.Single]          -0.0351      0.194     -0.181      0.856      -0.415       0.345\n",
      "age                         0.0100      0.006      1.591      0.112      -0.002       0.022\n",
      "default                     0.3461      0.388      0.893      0.372      -0.414       1.106\n",
      "balance                  4.783e-06   1.74e-05      0.276      0.783   -2.92e-05    3.88e-05\n",
      "housing                    -0.4058      0.122     -3.324      0.001      -0.645      -0.167\n",
      "loan                       -0.6961      0.200     -3.485      0.000      -1.088      -0.305\n",
      "===========================================================================================\n"
     ]
    }
   ],
   "source": [
    "bank_logit_model = sm.Logit(y, x)\n",
    "bank_logit_fit = bank_logit_model.fit()\n",
    "print(bank_logit_fit.summary())"
   ]
  },
  {
   "cell_type": "code",
   "execution_count": 16,
   "metadata": {},
   "outputs": [],
   "source": [
    "# Prediction probability offer\n",
    "first_time_bankData['prediction_logit_prob'] = bank_logit_fit.predict(linear = False)"
   ]
  },
  {
   "cell_type": "code",
   "execution_count": 17,
   "metadata": {},
   "outputs": [],
   "source": [
    "# map probability cutoff\n",
    "def prediction_prob(x, cutoff):\n",
    "    if x > cutoff:\n",
    "        return 1\n",
    "    else:\n",
    "        return 0"
   ]
  },
  {
   "cell_type": "code",
   "execution_count": 21,
   "metadata": {},
   "outputs": [
    {
     "name": "stdout",
     "output_type": "stream",
     "text": [
      "Confusion matrix for 0.10 cutoff\n",
      " response          0    1   All\n",
      "prediction_10                 \n",
      "0              2262  159  2421\n",
      "1              1106  178  1284\n",
      "All            3368  337  3705\n"
     ]
    }
   ],
   "source": [
    "# using 10 percent response cutoff\n",
    "first_time_bankData['prediction_10'] = \\\n",
    "first_time_bankData['prediction_logit_prob'].apply(lambda x: prediction_prob(x, cutoff=0.10))\n",
    "print('Confusion matrix for 0.10 cutoff\\n',\n",
    "     pd.crosstab(first_time_bankData.prediction_10, first_time_bankData.response, margins=True))"
   ]
  },
  {
   "cell_type": "code",
   "execution_count": 22,
   "metadata": {},
   "outputs": [],
   "source": [
    "# calculation of lift\n",
    "label = []\n",
    "for i in range(10):\n",
    "    label.append('Label_'+str(10 - i))\n",
    "    \n",
    "def lift(x):\n",
    "    return(x / baseline)"
   ]
  },
  {
   "cell_type": "code",
   "execution_count": 24,
   "metadata": {},
   "outputs": [
    {
     "name": "stdout",
     "output_type": "stream",
     "text": [
      "prediction_logit_prob\n",
      "Label_10    0.043127\n",
      "Label_9     0.048649\n",
      "Label_8     0.053908\n",
      "Label_7     0.072973\n",
      "Label_6     0.078167\n",
      "Label_5     0.078378\n",
      "Label_4     0.110811\n",
      "Label_3     0.118598\n",
      "Label_2     0.102703\n",
      "Label_1     0.202156\n",
      "Name: response, dtype: float64\n"
     ]
    }
   ],
   "source": [
    "predictions = pd.qcut(first_time_bankData.prediction_logit_prob, 10, labels = label)\n",
    "label_groups = first_time_bankData.response.groupby(predictions)\n",
    "print(label_groups.mean())"
   ]
  },
  {
   "cell_type": "code",
   "execution_count": 25,
   "metadata": {},
   "outputs": [
    {
     "name": "stdout",
     "output_type": "stream",
     "text": [
      "Lift Chart Values by Label:\n",
      " prediction_logit_prob\n",
      "Label_10    0.474138\n",
      "Label_9     0.534846\n",
      "Label_8     0.592672\n",
      "Label_7     0.802270\n",
      "Label_6     0.859374\n",
      "Label_5     0.861697\n",
      "Label_4     1.218261\n",
      "Label_3     1.303878\n",
      "Label_2     1.129120\n",
      "Label_1     2.222520\n",
      "Name: response, dtype: float64 \n",
      "\n"
     ]
    }
   ],
   "source": [
    "lift_values = label_groups.mean() / baseline\n",
    "print('Lift Chart Values by Label:\\n', lift_values, '\\n')"
   ]
  },
  {
   "cell_type": "code",
   "execution_count": null,
   "metadata": {},
   "outputs": [],
   "source": []
  }
 ],
 "metadata": {
  "kernelspec": {
   "display_name": "Python 3",
   "language": "python",
   "name": "python3"
  },
  "language_info": {
   "codemirror_mode": {
    "name": "ipython",
    "version": 3
   },
   "file_extension": ".py",
   "mimetype": "text/x-python",
   "name": "python",
   "nbconvert_exporter": "python",
   "pygments_lexer": "ipython3",
   "version": "3.7.4"
  }
 },
 "nbformat": 4,
 "nbformat_minor": 2
}
