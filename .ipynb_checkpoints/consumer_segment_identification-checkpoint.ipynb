{
 "cells": [
  {
   "cell_type": "markdown",
   "metadata": {},
   "source": [
    "# Consumer segmentations  "
   ]
  },
  {
   "cell_type": "code",
   "execution_count": 1,
   "metadata": {},
   "outputs": [],
   "source": [
    "# import packages for multivariate analysis\n",
    "import pandas as pd  # DataFrame structure and operations\n",
    "import numpy as np  # arrays and numerical processing\n",
    "from sklearn.cluster import KMeans  # cluster analysis by partitioning\n",
    "from sklearn.metrics import silhouette_score as silhouette_score"
   ]
  },
  {
   "cell_type": "code",
   "execution_count": 2,
   "metadata": {},
   "outputs": [
    {
     "name": "stdout",
     "output_type": "stream",
     "text": [
      "<bound method NDFrame.head of       age            job  marital  education default  balance housing loan  \\\n",
      "0      30     unemployed  married    primary      no     1787      no   no   \n",
      "1      33       services  married  secondary      no     4789     yes  yes   \n",
      "2      35     management   single   tertiary      no     1350     yes   no   \n",
      "3      30     management  married   tertiary      no     1476     yes  yes   \n",
      "4      59    blue-collar  married  secondary      no        0     yes   no   \n",
      "...   ...            ...      ...        ...     ...      ...     ...  ...   \n",
      "4516   33       services  married  secondary      no     -333     yes   no   \n",
      "4517   57  self-employed  married   tertiary     yes    -3313     yes  yes   \n",
      "4518   57     technician  married  secondary      no      295      no   no   \n",
      "4519   28    blue-collar  married  secondary      no     1137      no   no   \n",
      "4520   44   entrepreneur   single   tertiary      no     1136     yes  yes   \n",
      "\n",
      "       contact  day month  duration  campaign  pdays  previous poutcome  \\\n",
      "0     cellular   19   oct        79         1     -1         0  unknown   \n",
      "1     cellular   11   may       220         1    339         4  failure   \n",
      "2     cellular   16   apr       185         1    330         1  failure   \n",
      "3      unknown    3   jun       199         4     -1         0  unknown   \n",
      "4      unknown    5   may       226         1     -1         0  unknown   \n",
      "...        ...  ...   ...       ...       ...    ...       ...      ...   \n",
      "4516  cellular   30   jul       329         5     -1         0  unknown   \n",
      "4517   unknown    9   may       153         1     -1         0  unknown   \n",
      "4518  cellular   19   aug       151        11     -1         0  unknown   \n",
      "4519  cellular    6   feb       129         4    211         3    other   \n",
      "4520  cellular    3   apr       345         2    249         7    other   \n",
      "\n",
      "     response  \n",
      "0          no  \n",
      "1          no  \n",
      "2          no  \n",
      "3          no  \n",
      "4          no  \n",
      "...       ...  \n",
      "4516       no  \n",
      "4517       no  \n",
      "4518       no  \n",
      "4519       no  \n",
      "4520       no  \n",
      "\n",
      "[4521 rows x 17 columns]>\n",
      "(4521, 17)\n"
     ]
    },
    {
     "data": {
      "text/plain": [
       "['age',\n",
       " 'job',\n",
       " 'marital',\n",
       " 'education',\n",
       " 'default',\n",
       " 'balance',\n",
       " 'housing',\n",
       " 'loan',\n",
       " 'contact',\n",
       " 'day',\n",
       " 'month',\n",
       " 'duration',\n",
       " 'campaign',\n",
       " 'pdays',\n",
       " 'previous',\n",
       " 'poutcome',\n",
       " 'response']"
      ]
     },
     "execution_count": 2,
     "metadata": {},
     "output_type": "execute_result"
    }
   ],
   "source": [
    "# read data from comma-delimited text file... create DataFrame object\n",
    "bank = pd.read_csv('datasets/bank.csv', sep = ';')\n",
    "print(bank.head)  # check the structure of the data frame\n",
    "print(bank.shape)\n",
    "# look at the list of column names\n",
    "list(bank.columns.values)"
   ]
  },
  {
   "cell_type": "code",
   "execution_count": 3,
   "metadata": {},
   "outputs": [
    {
     "name": "stdout",
     "output_type": "stream",
     "text": [
      "[30 33 35 59 36 39 41 43 20 31 40 56 37 25 38 42 44 26 55 67 53 68 32 49\n",
      " 78 23 52 34 61 45 48 57 54 63 51 29 50 27 60 28 21 58 22 46 24 77 75 47\n",
      " 70 65 64 62 66 19 81 83 80 71 72 69 79 73 86 74 76 87 84]\n",
      "34    231\n",
      "32    224\n",
      "31    199\n",
      "36    188\n",
      "33    186\n",
      "     ... \n",
      "76      2\n",
      "84      1\n",
      "81      1\n",
      "86      1\n",
      "87      1\n",
      "Name: age, Length: 67, dtype: int64\n",
      "count    4521.000000\n",
      "mean       41.170095\n",
      "std        10.576211\n",
      "min        19.000000\n",
      "25%        33.000000\n",
      "50%        39.000000\n",
      "75%        49.000000\n",
      "max        87.000000\n",
      "Name: age, dtype: float64\n"
     ]
    }
   ],
   "source": [
    "# examine the demographic variable age\n",
    "print(bank['age'].unique())\n",
    "print(bank['age'].value_counts(sort = True))\n",
    "print(bank['age'].describe()) "
   ]
  },
  {
   "cell_type": "code",
   "execution_count": 4,
   "metadata": {},
   "outputs": [
    {
     "name": "stdout",
     "output_type": "stream",
     "text": [
      "['unemployed' 'services' 'management' 'blue-collar' 'self-employed'\n",
      " 'technician' 'entrepreneur' 'admin.' 'student' 'housemaid' 'retired'\n",
      " 'unknown']\n",
      "management       969\n",
      "blue-collar      946\n",
      "technician       768\n",
      "admin.           478\n",
      "services         417\n",
      "retired          230\n",
      "self-employed    183\n",
      "entrepreneur     168\n",
      "unemployed       128\n",
      "housemaid        112\n",
      "student           84\n",
      "unknown           38\n",
      "Name: job, dtype: int64\n",
      "count           4521\n",
      "unique            12\n",
      "top       management\n",
      "freq             969\n",
      "Name: job, dtype: object\n"
     ]
    }
   ],
   "source": [
    "# examine the demographic variable job\n",
    "print(bank['job'].unique())\n",
    "print(bank['job'].value_counts(sort = True))\n",
    "print(bank['job'].describe())  "
   ]
  },
  {
   "cell_type": "code",
   "execution_count": 5,
   "metadata": {},
   "outputs": [
    {
     "name": "stdout",
     "output_type": "stream",
     "text": [
      "   job_admin.  job_blue-collar  job_entrepreneur  job_housemaid  \\\n",
      "0           0                0                 0              0   \n",
      "1           0                0                 0              0   \n",
      "2           0                0                 0              0   \n",
      "3           0                0                 0              0   \n",
      "4           0                1                 0              0   \n",
      "\n",
      "   job_management  job_retired  job_self-employed  job_services  job_student  \\\n",
      "0               0            0                  0             0            0   \n",
      "1               0            0                  0             1            0   \n",
      "2               1            0                  0             0            0   \n",
      "3               1            0                  0             0            0   \n",
      "4               0            0                  0             0            0   \n",
      "\n",
      "   job_technician  job_unemployed  job_unknown  \n",
      "0               0               1            0  \n",
      "1               0               0            0  \n",
      "2               0               0            0  \n",
      "3               0               0            0  \n",
      "4               0               0            0  \n"
     ]
    }
   ],
   "source": [
    "# define job indicator variables\n",
    "job_indicators = pd.get_dummies(bank['job'], prefix = 'job')\n",
    "print(job_indicators.head())\n",
    "bank = bank.join(job_indicators)\n",
    "bank['whitecollar'] = bank['job_admin.'] + bank['job_management'] + \\\n",
    "    bank['job_entrepreneur'] + bank['job_self-employed']\n",
    "bank['bluecollar'] = bank['job_blue-collar'] + bank['job_services'] + \\\n",
    "    bank['job_technician'] + bank['job_housemaid']"
   ]
  },
  {
   "cell_type": "code",
   "execution_count": 6,
   "metadata": {},
   "outputs": [
    {
     "name": "stdout",
     "output_type": "stream",
     "text": [
      "['married' 'single' 'divorced']\n",
      "married     2797\n",
      "single      1196\n",
      "divorced     528\n",
      "Name: marital, dtype: int64\n",
      "count        4521\n",
      "unique          3\n",
      "top       married\n",
      "freq         2797\n",
      "Name: marital, dtype: object\n"
     ]
    }
   ],
   "source": [
    "# examine the demographic variable marital\n",
    "print(bank['marital'].unique())\n",
    "print(bank['marital'].value_counts(sort = True))\n",
    "print(bank['marital'].describe()) "
   ]
  },
  {
   "cell_type": "code",
   "execution_count": 7,
   "metadata": {},
   "outputs": [
    {
     "name": "stdout",
     "output_type": "stream",
     "text": [
      "   marital_divorced  marital_married  marital_single\n",
      "0                 0                1               0\n",
      "1                 0                1               0\n",
      "2                 0                0               1\n",
      "3                 0                1               0\n",
      "4                 0                1               0\n"
     ]
    }
   ],
   "source": [
    "# define marital indicator variables\n",
    "marital_indicators = pd.get_dummies(bank['marital'], prefix = 'marital')\n",
    "print(marital_indicators.head())\n",
    "bank = bank.join(marital_indicators)\n",
    "bank['divorced'] = bank['marital_divorced']\n",
    "bank['married'] = bank['marital_married']"
   ]
  },
  {
   "cell_type": "code",
   "execution_count": 8,
   "metadata": {},
   "outputs": [
    {
     "name": "stdout",
     "output_type": "stream",
     "text": [
      "['primary' 'secondary' 'tertiary' 'unknown']\n",
      "secondary    2306\n",
      "tertiary     1350\n",
      "primary       678\n",
      "unknown       187\n",
      "Name: education, dtype: int64\n",
      "count          4521\n",
      "unique            4\n",
      "top       secondary\n",
      "freq           2306\n",
      "Name: education, dtype: object\n"
     ]
    }
   ],
   "source": [
    "# examine the demographic variable education\n",
    "print(bank['education'].unique())\n",
    "print(bank['education'].value_counts(sort = True))\n",
    "print(bank['education'].describe()) "
   ]
  },
  {
   "cell_type": "code",
   "execution_count": 9,
   "metadata": {},
   "outputs": [
    {
     "name": "stdout",
     "output_type": "stream",
     "text": [
      "   education_primary  education_secondary  education_tertiary  \\\n",
      "0                  1                    0                   0   \n",
      "1                  0                    1                   0   \n",
      "2                  0                    0                   1   \n",
      "3                  0                    0                   1   \n",
      "4                  0                    1                   0   \n",
      "\n",
      "   education_unknown  \n",
      "0                  0  \n",
      "1                  0  \n",
      "2                  0  \n",
      "3                  0  \n",
      "4                  0  \n"
     ]
    }
   ],
   "source": [
    "# define education indicator variables\n",
    "education_indicators = pd.get_dummies(bank['education'], prefix = 'education')\n",
    "print(education_indicators.head())\n",
    "bank = bank.join(education_indicators)\n",
    "bank['primary'] = bank['education_primary']\n",
    "bank['secondary'] = bank['education_secondary']\n",
    "bank['tertiary'] = bank['education_tertiary']"
   ]
  },
  {
   "cell_type": "code",
   "execution_count": 10,
   "metadata": {},
   "outputs": [
    {
     "name": "stdout",
     "output_type": "stream",
     "text": [
      "<bound method NDFrame.head of       age            job  marital  education default  balance housing loan  \\\n",
      "0      30     unemployed  married    primary      no     1787      no   no   \n",
      "1      33       services  married  secondary      no     4789     yes  yes   \n",
      "2      35     management   single   tertiary      no     1350     yes   no   \n",
      "3      30     management  married   tertiary      no     1476     yes  yes   \n",
      "4      59    blue-collar  married  secondary      no        0     yes   no   \n",
      "...   ...            ...      ...        ...     ...      ...     ...  ...   \n",
      "4516   33       services  married  secondary      no     -333     yes   no   \n",
      "4517   57  self-employed  married   tertiary     yes    -3313     yes  yes   \n",
      "4518   57     technician  married  secondary      no      295      no   no   \n",
      "4519   28    blue-collar  married  secondary      no     1137      no   no   \n",
      "4520   44   entrepreneur   single   tertiary      no     1136     yes  yes   \n",
      "\n",
      "       contact  day  ... marital_single  divorced  married  education_primary  \\\n",
      "0     cellular   19  ...              0         0        1                  1   \n",
      "1     cellular   11  ...              0         0        1                  0   \n",
      "2     cellular   16  ...              1         0        0                  0   \n",
      "3      unknown    3  ...              0         0        1                  0   \n",
      "4      unknown    5  ...              0         0        1                  0   \n",
      "...        ...  ...  ...            ...       ...      ...                ...   \n",
      "4516  cellular   30  ...              0         0        1                  0   \n",
      "4517   unknown    9  ...              0         0        1                  0   \n",
      "4518  cellular   19  ...              0         0        1                  0   \n",
      "4519  cellular    6  ...              0         0        1                  0   \n",
      "4520  cellular    3  ...              1         0        0                  0   \n",
      "\n",
      "      education_secondary education_tertiary education_unknown  primary  \\\n",
      "0                       0                  0                 0        1   \n",
      "1                       1                  0                 0        0   \n",
      "2                       0                  1                 0        0   \n",
      "3                       0                  1                 0        0   \n",
      "4                       1                  0                 0        0   \n",
      "...                   ...                ...               ...      ...   \n",
      "4516                    1                  0                 0        0   \n",
      "4517                    0                  1                 0        0   \n",
      "4518                    1                  0                 0        0   \n",
      "4519                    1                  0                 0        0   \n",
      "4520                    0                  1                 0        0   \n",
      "\n",
      "      secondary  tertiary  \n",
      "0             0         0  \n",
      "1             1         0  \n",
      "2             0         1  \n",
      "3             0         1  \n",
      "4             1         0  \n",
      "...         ...       ...  \n",
      "4516          1         0  \n",
      "4517          0         1  \n",
      "4518          1         0  \n",
      "4519          1         0  \n",
      "4520          0         1  \n",
      "\n",
      "[4521 rows x 43 columns]>\n",
      "(4521, 43)\n"
     ]
    },
    {
     "data": {
      "text/plain": [
       "['age',\n",
       " 'job',\n",
       " 'marital',\n",
       " 'education',\n",
       " 'default',\n",
       " 'balance',\n",
       " 'housing',\n",
       " 'loan',\n",
       " 'contact',\n",
       " 'day',\n",
       " 'month',\n",
       " 'duration',\n",
       " 'campaign',\n",
       " 'pdays',\n",
       " 'previous',\n",
       " 'poutcome',\n",
       " 'response',\n",
       " 'job_admin.',\n",
       " 'job_blue-collar',\n",
       " 'job_entrepreneur',\n",
       " 'job_housemaid',\n",
       " 'job_management',\n",
       " 'job_retired',\n",
       " 'job_self-employed',\n",
       " 'job_services',\n",
       " 'job_student',\n",
       " 'job_technician',\n",
       " 'job_unemployed',\n",
       " 'job_unknown',\n",
       " 'whitecollar',\n",
       " 'bluecollar',\n",
       " 'marital_divorced',\n",
       " 'marital_married',\n",
       " 'marital_single',\n",
       " 'divorced',\n",
       " 'married',\n",
       " 'education_primary',\n",
       " 'education_secondary',\n",
       " 'education_tertiary',\n",
       " 'education_unknown',\n",
       " 'primary',\n",
       " 'secondary',\n",
       " 'tertiary']"
      ]
     },
     "execution_count": 10,
     "metadata": {},
     "output_type": "execute_result"
    }
   ],
   "source": [
    "print(bank.head)  # check the structure of the data frame\n",
    "print(bank.shape)\n",
    "# look at the list of column names\n",
    "list(bank.columns.values)"
   ]
  },
  {
   "cell_type": "code",
   "execution_count": 11,
   "metadata": {},
   "outputs": [
    {
     "name": "stdout",
     "output_type": "stream",
     "text": [
      "(3705, 43)\n"
     ]
    }
   ],
   "source": [
    "# select/filter for cases never previously contacted by sales\n",
    "bank_selected = bank[bank['previous'] == 0]\n",
    "print(bank_selected.shape)"
   ]
  },
  {
   "cell_type": "code",
   "execution_count": 12,
   "metadata": {},
   "outputs": [],
   "source": [
    "# select subset of variables needed for cluster analysis and post-analysis\n",
    "bankfull = pd.DataFrame(bank_selected, \\\n",
    "    columns = ['response', 'age', 'whitecollar', 'bluecollar', \n",
    "               'divorced', 'married',\n",
    "               'primary', 'secondary', 'tertiary'])"
   ]
  },
  {
   "cell_type": "code",
   "execution_count": 13,
   "metadata": {},
   "outputs": [
    {
     "name": "stdout",
     "output_type": "stream",
     "text": [
      "<bound method NDFrame.head of      response  age  whitecollar  bluecollar  divorced  married  primary  \\\n",
      "0          no   30            0           0         0        1        1   \n",
      "3          no   30            1           0         0        1        0   \n",
      "4          no   59            0           1         0        1        0   \n",
      "7          no   39            0           1         0        1        0   \n",
      "8          no   41            1           0         0        1        0   \n",
      "...       ...  ...          ...         ...       ...      ...      ...   \n",
      "4513       no   49            0           1         0        1        0   \n",
      "4515       no   32            0           1         0        0        0   \n",
      "4516       no   33            0           1         0        1        0   \n",
      "4517       no   57            1           0         0        1        0   \n",
      "4518       no   57            0           1         0        1        0   \n",
      "\n",
      "      secondary  tertiary  \n",
      "0             0         0  \n",
      "3             0         1  \n",
      "4             1         0  \n",
      "7             1         0  \n",
      "8             0         1  \n",
      "...         ...       ...  \n",
      "4513          1         0  \n",
      "4515          1         0  \n",
      "4516          1         0  \n",
      "4517          0         1  \n",
      "4518          1         0  \n",
      "\n",
      "[3705 rows x 9 columns]>\n",
      "(3705, 9)\n"
     ]
    },
    {
     "data": {
      "text/plain": [
       "['response',\n",
       " 'age',\n",
       " 'whitecollar',\n",
       " 'bluecollar',\n",
       " 'divorced',\n",
       " 'married',\n",
       " 'primary',\n",
       " 'secondary',\n",
       " 'tertiary']"
      ]
     },
     "execution_count": 13,
     "metadata": {},
     "output_type": "execute_result"
    }
   ],
   "source": [
    "# examine the structure of the full bank DataFrame\n",
    "print(bankfull.head)  # check the structure of the data frame\n",
    "print(bankfull.shape)\n",
    "# look at the list of column names\n",
    "list(bankfull.columns.values)"
   ]
  },
  {
   "cell_type": "code",
   "execution_count": 14,
   "metadata": {},
   "outputs": [],
   "source": [
    "# select subset of variables for input to cluster analysis\n",
    "data_for_clustering = pd.DataFrame(bank_selected, \\\n",
    "    columns = ['age', 'whitecollar', 'bluecollar', \n",
    "               'divorced', 'married',\n",
    "               'primary', 'secondary', 'tertiary'])"
   ]
  },
  {
   "cell_type": "code",
   "execution_count": 15,
   "metadata": {},
   "outputs": [
    {
     "name": "stderr",
     "output_type": "stream",
     "text": [
      "/home/adelard/anaconda3/envs/tensorflow/lib/python3.7/site-packages/ipykernel_launcher.py:2: FutureWarning: Method .as_matrix will be removed in a future version. Use .values instead.\n",
      "  \n"
     ]
    }
   ],
   "source": [
    "# convert to matrix/numpy array for input to cluster analysis\n",
    "data_for_clustering_matrix = data_for_clustering.as_matrix()"
   ]
  },
  {
   "cell_type": "code",
   "execution_count": 16,
   "metadata": {},
   "outputs": [],
   "source": [
    "# investigate alternative numbers of clusters using silhouette score\n",
    "silhouette_value = []\n",
    "k = range(2,21)  # look at solutions between 2 and 20 clusters\n",
    "for i in k:\n",
    "    clustering_method = KMeans(n_clusters = i, random_state = 9999)\n",
    "    clustering_method.fit(data_for_clustering_matrix)\n",
    "    labels = clustering_method.predict(data_for_clustering_matrix)\n",
    "    silhouette_average = silhouette_score(data_for_clustering_matrix, labels)\n",
    "    silhouette_value.append(silhouette_average) "
   ]
  },
  {
   "cell_type": "code",
   "execution_count": 17,
   "metadata": {},
   "outputs": [],
   "source": [
    "# highest silhouette score is for two clusters\n",
    "# so we use that clustering solution here   \n",
    "clustering_method = KMeans(n_clusters = 2, random_state = 9999)\n",
    "clustering_method.fit(data_for_clustering_matrix)\n",
    "labels = clustering_method.predict(data_for_clustering_matrix)"
   ]
  },
  {
   "cell_type": "code",
   "execution_count": 18,
   "metadata": {},
   "outputs": [],
   "source": [
    "# add cluster labels to bankfull and review the solution \n",
    "bankfull['cluster'] = labels"
   ]
  },
  {
   "cell_type": "code",
   "execution_count": 20,
   "metadata": {},
   "outputs": [
    {
     "data": {
      "text/html": [
       "<div>\n",
       "<style scoped>\n",
       "    .dataframe tbody tr th:only-of-type {\n",
       "        vertical-align: middle;\n",
       "    }\n",
       "\n",
       "    .dataframe tbody tr th {\n",
       "        vertical-align: top;\n",
       "    }\n",
       "\n",
       "    .dataframe thead tr th {\n",
       "        text-align: left;\n",
       "    }\n",
       "\n",
       "    .dataframe thead tr:last-of-type th {\n",
       "        text-align: right;\n",
       "    }\n",
       "</style>\n",
       "<table border=\"1\" class=\"dataframe\">\n",
       "  <thead>\n",
       "    <tr>\n",
       "      <th></th>\n",
       "      <th colspan=\"8\" halign=\"left\">age</th>\n",
       "      <th colspan=\"2\" halign=\"left\">whitecollar</th>\n",
       "      <th>...</th>\n",
       "      <th colspan=\"2\" halign=\"left\">secondary</th>\n",
       "      <th colspan=\"8\" halign=\"left\">tertiary</th>\n",
       "    </tr>\n",
       "    <tr>\n",
       "      <th></th>\n",
       "      <th>count</th>\n",
       "      <th>mean</th>\n",
       "      <th>std</th>\n",
       "      <th>min</th>\n",
       "      <th>25%</th>\n",
       "      <th>50%</th>\n",
       "      <th>75%</th>\n",
       "      <th>max</th>\n",
       "      <th>count</th>\n",
       "      <th>mean</th>\n",
       "      <th>...</th>\n",
       "      <th>75%</th>\n",
       "      <th>max</th>\n",
       "      <th>count</th>\n",
       "      <th>mean</th>\n",
       "      <th>std</th>\n",
       "      <th>min</th>\n",
       "      <th>25%</th>\n",
       "      <th>50%</th>\n",
       "      <th>75%</th>\n",
       "      <th>max</th>\n",
       "    </tr>\n",
       "    <tr>\n",
       "      <th>cluster</th>\n",
       "      <th></th>\n",
       "      <th></th>\n",
       "      <th></th>\n",
       "      <th></th>\n",
       "      <th></th>\n",
       "      <th></th>\n",
       "      <th></th>\n",
       "      <th></th>\n",
       "      <th></th>\n",
       "      <th></th>\n",
       "      <th></th>\n",
       "      <th></th>\n",
       "      <th></th>\n",
       "      <th></th>\n",
       "      <th></th>\n",
       "      <th></th>\n",
       "      <th></th>\n",
       "      <th></th>\n",
       "      <th></th>\n",
       "      <th></th>\n",
       "      <th></th>\n",
       "    </tr>\n",
       "  </thead>\n",
       "  <tbody>\n",
       "    <tr>\n",
       "      <td>0</td>\n",
       "      <td>2303.0</td>\n",
       "      <td>34.293964</td>\n",
       "      <td>5.064226</td>\n",
       "      <td>19.0</td>\n",
       "      <td>31.0</td>\n",
       "      <td>34.0</td>\n",
       "      <td>38.0</td>\n",
       "      <td>43.0</td>\n",
       "      <td>2303.0</td>\n",
       "      <td>0.405992</td>\n",
       "      <td>...</td>\n",
       "      <td>1.0</td>\n",
       "      <td>1.0</td>\n",
       "      <td>2303.0</td>\n",
       "      <td>0.327833</td>\n",
       "      <td>0.469526</td>\n",
       "      <td>0.0</td>\n",
       "      <td>0.0</td>\n",
       "      <td>0.0</td>\n",
       "      <td>1.0</td>\n",
       "      <td>1.0</td>\n",
       "    </tr>\n",
       "    <tr>\n",
       "      <td>1</td>\n",
       "      <td>1402.0</td>\n",
       "      <td>52.236805</td>\n",
       "      <td>6.489732</td>\n",
       "      <td>44.0</td>\n",
       "      <td>47.0</td>\n",
       "      <td>51.0</td>\n",
       "      <td>56.0</td>\n",
       "      <td>87.0</td>\n",
       "      <td>1402.0</td>\n",
       "      <td>0.369472</td>\n",
       "      <td>...</td>\n",
       "      <td>1.0</td>\n",
       "      <td>1.0</td>\n",
       "      <td>1402.0</td>\n",
       "      <td>0.234665</td>\n",
       "      <td>0.423940</td>\n",
       "      <td>0.0</td>\n",
       "      <td>0.0</td>\n",
       "      <td>0.0</td>\n",
       "      <td>0.0</td>\n",
       "      <td>1.0</td>\n",
       "    </tr>\n",
       "  </tbody>\n",
       "</table>\n",
       "<p>2 rows × 64 columns</p>\n",
       "</div>"
      ],
      "text/plain": [
       "            age                                                     \\\n",
       "          count       mean       std   min   25%   50%   75%   max   \n",
       "cluster                                                              \n",
       "0        2303.0  34.293964  5.064226  19.0  31.0  34.0  38.0  43.0   \n",
       "1        1402.0  52.236805  6.489732  44.0  47.0  51.0  56.0  87.0   \n",
       "\n",
       "        whitecollar            ... secondary      tertiary            \\\n",
       "              count      mean  ...       75%  max    count      mean   \n",
       "cluster                        ...                                     \n",
       "0            2303.0  0.405992  ...       1.0  1.0   2303.0  0.327833   \n",
       "1            1402.0  0.369472  ...       1.0  1.0   1402.0  0.234665   \n",
       "\n",
       "                                            \n",
       "              std  min  25%  50%  75%  max  \n",
       "cluster                                     \n",
       "0        0.469526  0.0  0.0  0.0  1.0  1.0  \n",
       "1        0.423940  0.0  0.0  0.0  0.0  1.0  \n",
       "\n",
       "[2 rows x 64 columns]"
      ]
     },
     "execution_count": 20,
     "metadata": {},
     "output_type": "execute_result"
    }
   ],
   "source": [
    "# groupby example\n",
    "segments = bankfull.groupby('cluster')\n",
    "segments.describe()"
   ]
  },
  {
   "cell_type": "code",
   "execution_count": null,
   "metadata": {},
   "outputs": [],
   "source": []
  }
 ],
 "metadata": {
  "kernelspec": {
   "display_name": "Python 3",
   "language": "python",
   "name": "python3"
  },
  "language_info": {
   "codemirror_mode": {
    "name": "ipython",
    "version": 3
   },
   "file_extension": ".py",
   "mimetype": "text/x-python",
   "name": "python",
   "nbconvert_exporter": "python",
   "pygments_lexer": "ipython3",
   "version": "3.7.4"
  }
 },
 "nbformat": 4,
 "nbformat_minor": 2
}
