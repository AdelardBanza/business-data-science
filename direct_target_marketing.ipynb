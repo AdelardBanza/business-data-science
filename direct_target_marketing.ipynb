{
 "cells": [
  {
   "cell_type": "markdown",
   "metadata": {},
   "source": [
    "# Direct Target Marketing"
   ]
  },
  {
   "cell_type": "markdown",
   "metadata": {},
   "source": [
    "mass marketing sees all customers as one unit. One-to-one marketing focuses on one customer at a time. Direct target marketing lies between mass marketing and one-to-one marketing. Direct target marketing involves activities to those customers who are most likely to buy the product. \n",
    "\n",
    "Direct target marketing implies selection. Some customers are identified as more valuable than others and these more valued customers are given special attention. \n",
    "\n",
    "By using direct target marketing properly, companies can improve its profitability, increasing revenues and decreasing costs. \n",
    "\n",
    "Models for direct marketing: Bank Casework\n",
    "\n",
    "- What do we mean by a direct marketing model? Classification into likely buyers vs. non-buyers \n",
    "\n",
    "- Shall we have one model or many (one for each segment or one for each mailing)?\n",
    "\n",
    "- Define a meaningful response and a set of legitimate explanatory variables (no independent/dependent variable confounding)\n",
    "\n",
    "- Training/test approach to model testing: Do explonatory analysis and data preparation on the training set alone. Develop targeting model (model specification and subset selection) on the training set alone.\n",
    "\n",
    "- Evaluate the model on the test set using statistical and financial evaluation criteria\n",
    "\n",
    "- Develop specific recommendations for management - which customers should be sent mailings (likely buyers predicted by the model)?\n",
    "\n",
    "- What's the profit contribution of the model? Without the model, we mail to everyone. With the model we mail only to predicted likely buyers. Using the test set predict costs and sales with and without using the model for targeting. "
   ]
  },
  {
   "cell_type": "code",
   "execution_count": 1,
   "metadata": {},
   "outputs": [],
   "source": [
    "# Python >= 3.7\n",
    "import sys\n",
    "\n",
    "# Scikit-Learn >= 0.22\n",
    "import sklearn\n",
    "\n",
    "# Common import packages for text processing and machine learning\n",
    "import numpy as np # arrays and numerical processing\n",
    "import pandas as pd # DataFrame structure and operations\n",
    "import os\n",
    "\n",
    "# Making the notebook's output stable across runs\n",
    "np.random.seed(31)\n",
    "\n",
    "# To plot figures\n",
    "%matplotlib inline\n",
    "import matplotlib as mp\n",
    "import matplotlib.pyplot as plt # 2D plotting\n",
    "mp.rc('axes', labelsize=14)\n",
    "mp.rc('xtick', labelsize=12)\n",
    "mp.rc('ytick', labelsize=12)\n",
    "\n",
    "# Where to save the figures\n",
    "PROJECT_DIR = \".\"\n",
    "SECTION_ID = \"targeting_customers\"\n",
    "IMAGES_PATH = os.path.join(PROJECT_DIR, \"images\", SECTION_ID)\n",
    "os.makedirs(IMAGES_PATH, exist_ok=True)\n",
    "\n",
    "def save_img(fig_id, tight_layout=True, fig_extension=\"png\", resolution=300):\n",
    "    path = os.path.join(IMAGES_PATH, fig_id + \".\" + fig_extension)\n",
    "    print(\"Saving image\", fig_id)\n",
    "    if tight_layout:\n",
    "        plt.tight_layout()\n",
    "    plt.savefig(path, format=fig_extension, dpi=resolution)\n",
    "    \n",
    "# Ignore useless warnings\n",
    "import warnings\n",
    "warnings.filterwarnings(action=\"ignore\", message=\"^internal gelsd\")"
   ]
  },
  {
   "cell_type": "markdown",
   "metadata": {},
   "source": [
    "### Get the data"
   ]
  },
  {
   "cell_type": "code",
   "execution_count": 2,
   "metadata": {},
   "outputs": [],
   "source": [
    "bankData = pd.read_csv('datasets/bank.csv', sep=';')"
   ]
  },
  {
   "cell_type": "code",
   "execution_count": 3,
   "metadata": {},
   "outputs": [
    {
     "name": "stdout",
     "output_type": "stream",
     "text": [
      "   age          job  marital  education default  balance housing loan  \\\n",
      "0   30   unemployed  married    primary      no     1787      no   no   \n",
      "1   33     services  married  secondary      no     4789     yes  yes   \n",
      "2   35   management   single   tertiary      no     1350     yes   no   \n",
      "3   30   management  married   tertiary      no     1476     yes  yes   \n",
      "4   59  blue-collar  married  secondary      no        0     yes   no   \n",
      "\n",
      "    contact  day month  duration  campaign  pdays  previous poutcome response  \n",
      "0  cellular   19   oct        79         1     -1         0  unknown       no  \n",
      "1  cellular   11   may       220         1    339         4  failure       no  \n",
      "2  cellular   16   apr       185         1    330         1  failure       no  \n",
      "3   unknown    3   jun       199         4     -1         0  unknown       no  \n",
      "4   unknown    5   may       226         1     -1         0  unknown       no  \n"
     ]
    }
   ],
   "source": [
    "print(bankData.head())"
   ]
  },
  {
   "cell_type": "markdown",
   "metadata": {},
   "source": [
    "### Define variables"
   ]
  },
  {
   "cell_type": "code",
   "execution_count": 4,
   "metadata": {},
   "outputs": [],
   "source": [
    "jobtitle = {'admin.': 'White Collar', 'entrepreneur': 'White Collar', 'management': 'White Collar',\n",
    "          'self-employed': 'White Collar', 'blue-collar': 'Blue Collar', 'services': 'Blue Collar',\n",
    "          'technician': 'Blue Collar'}"
   ]
  },
  {
   "cell_type": "code",
   "execution_count": 5,
   "metadata": {},
   "outputs": [],
   "source": [
    "marital_status = {'divorced': 'Divorced', 'married': 'Married', 'single': 'Single'}"
   ]
  },
  {
   "cell_type": "code",
   "execution_count": 6,
   "metadata": {},
   "outputs": [],
   "source": [
    "education_level = {'primary': 'Primary', 'secondary': 'Secondary', 'tertiary': 'Tertiary'}"
   ]
  },
  {
   "cell_type": "code",
   "execution_count": 7,
   "metadata": {},
   "outputs": [],
   "source": [
    "yesno = {'yes': 1, 'no': 0}"
   ]
  },
  {
   "cell_type": "code",
   "execution_count": 8,
   "metadata": {},
   "outputs": [],
   "source": [
    "bankData['jobtype'] = bankData['job'].map(jobtitle)\n",
    "bankData['jobtype'] = bankData['jobtype'].fillna('Other')\n",
    "\n",
    "bankData['marital'] = bankData['marital'].map(marital_status)\n",
    "bankData['marital'] = bankData['marital'].fillna('Unknown')\n",
    "\n",
    "bankData['education'] = bankData['education'].map(education_level)\n",
    "bankData['education'] = bankData['education'].fillna('Unknown')\n",
    "\n",
    "bankData['default'] = bankData['default'].map(yesno)\n",
    "bankData['default'] = bankData['default'].fillna('No')\n",
    "\n",
    "bankData['housing'] = bankData['housing'].map(yesno)\n",
    "bankData['housing'] = bankData['housing'].fillna('No')\n",
    "\n",
    "bankData['loan'] = bankData['loan'].map(yesno)\n",
    "bankData['loan'] = bankData['loan'].fillna('No')\n",
    "\n",
    "bankData['response'] = bankData['response'].map(yesno)\n",
    "bankData['response'] = bankData['response'].fillna('No')"
   ]
  },
  {
   "cell_type": "code",
   "execution_count": 9,
   "metadata": {},
   "outputs": [],
   "source": [
    "# selecting first time customers\n",
    "first_time_customers = bankData['pdays'].map(lambda x: x == -1)\n",
    "\n",
    "first_time_bankData = pd.DataFrame(bankData[first_time_customers], columns = [\n",
    "    'response', 'age', 'jobtype', 'education', 'marital', 'default', 'balance', 'housing', 'loan'])"
   ]
  },
  {
   "cell_type": "code",
   "execution_count": 10,
   "metadata": {},
   "outputs": [
    {
     "name": "stdout",
     "output_type": "stream",
     "text": [
      "   response  age       jobtype  education  marital  default  balance  housing  \\\n",
      "0         0   30         Other    Primary  Married        0     1787        0   \n",
      "3         0   30  White Collar   Tertiary  Married        0     1476        1   \n",
      "4         0   59   Blue Collar  Secondary  Married        0        0        1   \n",
      "7         0   39   Blue Collar  Secondary  Married        0      147        1   \n",
      "8         0   41  White Collar   Tertiary  Married        0      221        1   \n",
      "\n",
      "   loan  \n",
      "0     0  \n",
      "3     1  \n",
      "4     0  \n",
      "7     0  \n",
      "8     0  \n"
     ]
    }
   ],
   "source": [
    "print(first_time_bankData.head())"
   ]
  },
  {
   "cell_type": "code",
   "execution_count": 11,
   "metadata": {},
   "outputs": [
    {
     "name": "stdout",
     "output_type": "stream",
     "text": [
      "<class 'pandas.core.frame.DataFrame'>\n",
      "Int64Index: 3705 entries, 0 to 4518\n",
      "Data columns (total 9 columns):\n",
      "response     3705 non-null int64\n",
      "age          3705 non-null int64\n",
      "jobtype      3705 non-null object\n",
      "education    3705 non-null object\n",
      "marital      3705 non-null object\n",
      "default      3705 non-null int64\n",
      "balance      3705 non-null int64\n",
      "housing      3705 non-null int64\n",
      "loan         3705 non-null int64\n",
      "dtypes: int64(6), object(3)\n",
      "memory usage: 289.5+ KB\n",
      "None\n"
     ]
    }
   ],
   "source": [
    "print(first_time_bankData.info())"
   ]
  },
  {
   "cell_type": "code",
   "execution_count": 12,
   "metadata": {},
   "outputs": [
    {
     "name": "stdout",
     "output_type": "stream",
     "text": [
      "          response          age      default       balance      housing  \\\n",
      "count  3705.000000  3705.000000  3705.000000   3705.000000  3705.000000   \n",
      "mean      0.090958    41.083671     0.019163   1374.862078     0.551417   \n",
      "std       0.287588    10.373818     0.137117   3008.524207     0.497416   \n",
      "min       0.000000    19.000000     0.000000  -3313.000000     0.000000   \n",
      "25%       0.000000    33.000000     0.000000     60.000000     0.000000   \n",
      "50%       0.000000    39.000000     0.000000    415.000000     1.000000   \n",
      "75%       0.000000    49.000000     0.000000   1412.000000     1.000000   \n",
      "max       1.000000    87.000000     1.000000  71188.000000     1.000000   \n",
      "\n",
      "              loan  \n",
      "count  3705.000000  \n",
      "mean      0.159784  \n",
      "std       0.366455  \n",
      "min       0.000000  \n",
      "25%       0.000000  \n",
      "50%       0.000000  \n",
      "75%       0.000000  \n",
      "max       1.000000  \n"
     ]
    }
   ],
   "source": [
    "print(first_time_bankData.describe())"
   ]
  },
  {
   "cell_type": "code",
   "execution_count": 13,
   "metadata": {},
   "outputs": [
    {
     "name": "stdout",
     "output_type": "stream",
     "text": [
      "\\Proportion of bank customers responding to offer:  0.09096 \n",
      "\n"
     ]
    }
   ],
   "source": [
    "# baseline response rate\n",
    "accepted_offer = first_time_bankData['response'].map(lambda x: x == 1)\n",
    "baseline = len(first_time_bankData[accepted_offer]) / len(first_time_bankData)\n",
    "print('\\Proportion of bank customers responding to offer: ', round(baseline, 5), '\\n')"
   ]
  },
  {
   "cell_type": "code",
   "execution_count": 14,
   "metadata": {},
   "outputs": [
    {
     "name": "stdout",
     "output_type": "stream",
     "text": [
      "                age\n",
      "response           \n",
      "0         40.983076\n",
      "1         42.089021\n",
      "              balance\n",
      "response             \n",
      "0         1359.654097\n",
      "1         1526.851632\n",
      "              response\n",
      "jobtype               \n",
      "Blue Collar   0.072072\n",
      "Other         0.144958\n",
      "White Collar  0.096352\n",
      "           response\n",
      "education          \n",
      "Primary    0.082759\n",
      "Secondary  0.082496\n",
      "Tertiary   0.112546\n",
      "Unknown    0.073333\n",
      "          response\n",
      "marital           \n",
      "Divorced  0.126411\n",
      "Married   0.073753\n",
      "Single    0.115987\n",
      "         response\n",
      "default          \n",
      "0        0.090534\n",
      "1        0.112676\n",
      "         response\n",
      "housing          \n",
      "0        0.116727\n",
      "1        0.069995\n",
      "      response\n",
      "loan          \n",
      "0     0.098619\n",
      "1     0.050676\n"
     ]
    }
   ],
   "source": [
    "# average continous variables by response\n",
    "print(first_time_bankData.pivot_table(['age'], index = ['response']))\n",
    "print(first_time_bankData.pivot_table(['balance'], index = ['response']))\n",
    "\n",
    "print(first_time_bankData.pivot_table(['response'], index = ['jobtype']))\n",
    "print(first_time_bankData.pivot_table(['response'], index = ['education']))\n",
    "print(first_time_bankData.pivot_table(['response'], index = ['marital']))\n",
    "print(first_time_bankData.pivot_table(['response'], index = ['default']))\n",
    "print(first_time_bankData.pivot_table(['response'], index = ['housing']))\n",
    "print(first_time_bankData.pivot_table(['response'], index = ['loan']))"
   ]
  },
  {
   "cell_type": "code",
   "execution_count": null,
   "metadata": {},
   "outputs": [],
   "source": []
  }
 ],
 "metadata": {
  "kernelspec": {
   "display_name": "Python 3",
   "language": "python",
   "name": "python3"
  },
  "language_info": {
   "codemirror_mode": {
    "name": "ipython",
    "version": 3
   },
   "file_extension": ".py",
   "mimetype": "text/x-python",
   "name": "python",
   "nbconvert_exporter": "python",
   "pygments_lexer": "ipython3",
   "version": "3.7.3"
  }
 },
 "nbformat": 4,
 "nbformat_minor": 2
}
